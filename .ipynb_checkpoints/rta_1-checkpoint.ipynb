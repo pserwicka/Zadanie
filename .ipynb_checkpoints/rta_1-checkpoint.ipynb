{
 "cells": [
  {
   "cell_type": "markdown",
   "id": "adc8b556",
   "metadata": {
    "id": "GZU9X0cwexNG"
   },
   "source": [
    "# Numpy\n",
    "\n",
    "![image.png](data:image/png;base64,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)"
   ]
  },
  {
   "cell_type": "code",
   "execution_count": 39,
   "id": "2ae30d22",
   "metadata": {
    "id": "Bri1zYS8e8lx",
    "tags": []
   },
   "outputs": [],
   "source": [
    "import numpy as np"
   ]
  },
  {
   "cell_type": "markdown",
   "id": "b490f31a",
   "metadata": {
    "id": "9p4uvnu9fO6h"
   },
   "source": [
    "### lista vs array\n",
    "\n"
   ]
  },
  {
   "cell_type": "code",
   "execution_count": 3,
   "id": "e8583383",
   "metadata": {
    "id": "ySYpmq8Fe-6w"
   },
   "outputs": [
    {
     "data": {
      "text/plain": [
       "[0, 1, 2, 3, 4, 5, 6, 7, 8, 9]"
      ]
     },
     "execution_count": 3,
     "metadata": {},
     "output_type": "execute_result"
    }
   ],
   "source": [
    "lst = list(range(10))\n",
    "lst"
   ]
  },
  {
   "cell_type": "code",
   "execution_count": 4,
   "id": "f91f0f99",
   "metadata": {
    "id": "rsYA8gvofDm8"
   },
   "outputs": [
    {
     "data": {
      "text/plain": [
       "array([0, 1, 2, 3, 4, 5, 6, 7, 8, 9])"
      ]
     },
     "execution_count": 4,
     "metadata": {},
     "output_type": "execute_result"
    }
   ],
   "source": [
    "arr = np.arange(10)\n",
    "arr"
   ]
  },
  {
   "cell_type": "markdown",
   "id": "8c1c2a8d",
   "metadata": {
    "id": "F38Z5kMVfkKh"
   },
   "source": [
    "- **podobieństwa**"
   ]
  },
  {
   "cell_type": "code",
   "execution_count": 7,
   "id": "19417c6a",
   "metadata": {
    "id": "PNj0m5Trfn13"
   },
   "outputs": [
    {
     "data": {
      "text/plain": [
       "(10, 10)"
      ]
     },
     "execution_count": 7,
     "metadata": {},
     "output_type": "execute_result"
    }
   ],
   "source": [
    "len(lst), len(arr)"
   ]
  },
  {
   "cell_type": "code",
   "execution_count": 8,
   "id": "169ac15f",
   "metadata": {
    "id": "PaVNcXrtfnvV"
   },
   "outputs": [
    {
     "data": {
      "text/plain": [
       "(0, 0)"
      ]
     },
     "execution_count": 8,
     "metadata": {},
     "output_type": "execute_result"
    }
   ],
   "source": [
    "lst[0], arr[0]"
   ]
  },
  {
   "cell_type": "code",
   "execution_count": 9,
   "id": "9295c981",
   "metadata": {
    "id": "0WOApSKofnpg"
   },
   "outputs": [
    {
     "data": {
      "text/plain": [
       "([1, 2, 3, 4], array([1, 2, 3, 4]))"
      ]
     },
     "execution_count": 9,
     "metadata": {},
     "output_type": "execute_result"
    }
   ],
   "source": [
    "lst[1:5], arr[1:5]"
   ]
  },
  {
   "cell_type": "code",
   "execution_count": 10,
   "id": "f31b2a6d",
   "metadata": {
    "id": "dUcsUVomfniq"
   },
   "outputs": [
    {
     "data": {
      "text/plain": [
       "([5, 6, 7, 8, 9], array([5, 6, 7, 8, 9]))"
      ]
     },
     "execution_count": 10,
     "metadata": {},
     "output_type": "execute_result"
    }
   ],
   "source": [
    "lst[-5:], arr[-5:]"
   ]
  },
  {
   "cell_type": "markdown",
   "id": "cde8fde0",
   "metadata": {
    "id": "dRa97mK2f56k"
   },
   "source": [
    "- **różnice**"
   ]
  },
  {
   "cell_type": "code",
   "execution_count": 11,
   "id": "ae29c60f",
   "metadata": {
    "id": "_Vp5UviFf7f3"
   },
   "outputs": [
    {
     "data": {
      "text/plain": [
       "[0, 1, 2, 3, 4, 5, 6, 7, 8, 9, 0, 1, 2, 3, 4, 5, 6, 7, 8, 9]"
      ]
     },
     "execution_count": 11,
     "metadata": {},
     "output_type": "execute_result"
    }
   ],
   "source": [
    "lst * 2"
   ]
  },
  {
   "cell_type": "code",
   "execution_count": 12,
   "id": "16996a1a",
   "metadata": {
    "id": "y2z8cg9pf7Zr"
   },
   "outputs": [
    {
     "data": {
      "text/plain": [
       "[0, 2, 4, 6, 8, 10, 12, 14, 16, 18]"
      ]
     },
     "execution_count": 12,
     "metadata": {},
     "output_type": "execute_result"
    }
   ],
   "source": [
    "[x * 2 for x in lst]"
   ]
  },
  {
   "cell_type": "code",
   "execution_count": 13,
   "id": "d99433b3",
   "metadata": {
    "id": "yuDp2ZbJgIil"
   },
   "outputs": [
    {
     "data": {
      "text/plain": [
       "array([ 0,  2,  4,  6,  8, 10, 12, 14, 16, 18])"
      ]
     },
     "execution_count": 13,
     "metadata": {},
     "output_type": "execute_result"
    }
   ],
   "source": [
    "arr * 2"
   ]
  },
  {
   "cell_type": "code",
   "execution_count": null,
   "id": "ecc25a2e",
   "metadata": {
    "id": "b56dWJvYf7TB"
   },
   "outputs": [],
   "source": [
    "[\"a\", 1, True, 0.5]"
   ]
  },
  {
   "cell_type": "code",
   "execution_count": 14,
   "id": "cb45cb10",
   "metadata": {
    "id": "wXyAxEl3gb0B"
   },
   "outputs": [
    {
     "data": {
      "text/plain": [
       "array(['a', '1', 'True', '0.5'], dtype='<U32')"
      ]
     },
     "execution_count": 14,
     "metadata": {},
     "output_type": "execute_result"
    }
   ],
   "source": [
    "np.array([\"a\", 1, True, 0.5])"
   ]
  },
  {
   "cell_type": "code",
   "execution_count": 15,
   "id": "7a6424b4",
   "metadata": {
    "id": "1v7jINhPgm7z"
   },
   "outputs": [
    {
     "data": {
      "text/plain": [
       "dtype('int32')"
      ]
     },
     "execution_count": 15,
     "metadata": {},
     "output_type": "execute_result"
    }
   ],
   "source": [
    "arr.dtype"
   ]
  },
  {
   "cell_type": "code",
   "execution_count": 16,
   "id": "782f699c",
   "metadata": {
    "id": "1AnslB7yhAr-"
   },
   "outputs": [
    {
     "data": {
      "text/plain": [
       "dtype('<U32')"
      ]
     },
     "execution_count": 16,
     "metadata": {},
     "output_type": "execute_result"
    }
   ],
   "source": [
    "np.array([\"a\", 1, True, 0.5]).dtype"
   ]
  },
  {
   "cell_type": "markdown",
   "id": "358c129b",
   "metadata": {
    "id": "Iqx1N0vAhJai"
   },
   "source": [
    "### przydatne sposoby tworzenia"
   ]
  },
  {
   "cell_type": "code",
   "execution_count": 17,
   "id": "0897b440",
   "metadata": {
    "id": "ONvSkVzklqIN"
   },
   "outputs": [
    {
     "data": {
      "text/plain": [
       "array([0., 0., 0., 0., 0.])"
      ]
     },
     "execution_count": 17,
     "metadata": {},
     "output_type": "execute_result"
    }
   ],
   "source": [
    "np.zeros(5)"
   ]
  },
  {
   "cell_type": "code",
   "execution_count": 18,
   "id": "821b856f",
   "metadata": {
    "id": "k8y0ceiEhPG9"
   },
   "outputs": [
    {
     "data": {
      "text/plain": [
       "array([1, 1, 1, 1, 1, 1, 1, 1, 1, 1], dtype=int64)"
      ]
     },
     "execution_count": 18,
     "metadata": {},
     "output_type": "execute_result"
    }
   ],
   "source": [
    "ones = np.ones(10, dtype=\"int64\")\n",
    "ones"
   ]
  },
  {
   "cell_type": "code",
   "execution_count": 19,
   "id": "e93ce1b8",
   "metadata": {
    "id": "4jODPhePhPBX"
   },
   "outputs": [
    {
     "data": {
      "text/plain": [
       "array([ 1.        ,  3.11111111,  5.22222222,  7.33333333,  9.44444444,\n",
       "       11.55555556, 13.66666667, 15.77777778, 17.88888889, 20.        ])"
      ]
     },
     "execution_count": 19,
     "metadata": {},
     "output_type": "execute_result"
    }
   ],
   "source": [
    "line = np.linspace(1, 20, 10, dtype=\"float64\")\n",
    "line"
   ]
  },
  {
   "cell_type": "markdown",
   "id": "cfc227d8",
   "metadata": {
    "id": "NM4-MNVWhdDZ"
   },
   "source": [
    "### wektoryzacja"
   ]
  },
  {
   "cell_type": "code",
   "execution_count": 20,
   "id": "fd3d4d7d",
   "metadata": {
    "id": "1Ki-SlJPhO8Z"
   },
   "outputs": [
    {
     "data": {
      "text/plain": [
       "array([ 1,  2,  3,  4,  5,  6,  7,  8,  9, 10], dtype=int64)"
      ]
     },
     "execution_count": 20,
     "metadata": {},
     "output_type": "execute_result"
    }
   ],
   "source": [
    "arr2 = arr + ones\n",
    "arr2"
   ]
  },
  {
   "cell_type": "code",
   "execution_count": 21,
   "id": "ad5b6358",
   "metadata": {
    "id": "GSBqfmU_hO0I"
   },
   "outputs": [
    {
     "data": {
      "text/plain": [
       "array([0.        , 0.32142857, 0.38297872, 0.40909091, 0.42352941,\n",
       "       0.43269231, 0.43902439, 0.44366197, 0.44720497, 0.45      ])"
      ]
     },
     "execution_count": 21,
     "metadata": {},
     "output_type": "execute_result"
    }
   ],
   "source": [
    "arr / line"
   ]
  },
  {
   "cell_type": "code",
   "execution_count": 22,
   "id": "fc269dc6",
   "metadata": {
    "id": "_Zdapnu5hkLy"
   },
   "outputs": [
    {
     "data": {
      "text/plain": [
       "array([False, False, False, False, False, False,  True,  True,  True,\n",
       "        True])"
      ]
     },
     "execution_count": 22,
     "metadata": {},
     "output_type": "execute_result"
    }
   ],
   "source": [
    "arr > 5"
   ]
  },
  {
   "cell_type": "code",
   "execution_count": 23,
   "id": "14f1559f",
   "metadata": {
    "id": "o0mxv-bohkJU"
   },
   "outputs": [
    {
     "data": {
      "text/plain": [
       "array([0.        , 0.69314718, 1.09861229, 1.38629436, 1.60943791,\n",
       "       1.79175947, 1.94591015, 2.07944154, 2.19722458, 2.30258509])"
      ]
     },
     "execution_count": 23,
     "metadata": {},
     "output_type": "execute_result"
    }
   ],
   "source": [
    "np.log(arr2)"
   ]
  },
  {
   "cell_type": "code",
   "execution_count": 24,
   "id": "c8e8ee30",
   "metadata": {
    "id": "txW3GP4phjr1"
   },
   "outputs": [
    {
     "data": {
      "text/plain": [
       "array([  1,   4,   9,  16,  25,  36,  49,  64,  81, 100], dtype=int64)"
      ]
     },
     "execution_count": 24,
     "metadata": {},
     "output_type": "execute_result"
    }
   ],
   "source": [
    "np.square(arr2)"
   ]
  },
  {
   "cell_type": "code",
   "execution_count": 25,
   "id": "86fc77d1",
   "metadata": {
    "id": "3g9gBZlFhjlS"
   },
   "outputs": [
    {
     "data": {
      "text/plain": [
       "array([1.        , 1.41421356, 1.73205081, 2.        , 2.23606798,\n",
       "       2.44948974, 2.64575131, 2.82842712, 3.        , 3.16227766])"
      ]
     },
     "execution_count": 25,
     "metadata": {},
     "output_type": "execute_result"
    }
   ],
   "source": [
    "np.sqrt(arr2)"
   ]
  },
  {
   "cell_type": "code",
   "execution_count": 26,
   "id": "5a158dcf",
   "metadata": {
    "id": "zXuU9bD3buGl"
   },
   "outputs": [
    {
     "data": {
      "text/plain": [
       "array([ 1,  1,  1,  1,  1, -1, -1, -1, -1, -1])"
      ]
     },
     "execution_count": 26,
     "metadata": {},
     "output_type": "execute_result"
    }
   ],
   "source": [
    "np.where(arr2 > 5, -1, 1)"
   ]
  },
  {
   "cell_type": "markdown",
   "id": "8879d6d8",
   "metadata": {
    "id": "EOaNbnLlh-3V"
   },
   "source": [
    "### 1 wymiar\n",
    "\n",
    "![image.png](data:image/png;base64,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)"
   ]
  },
  {
   "cell_type": "code",
   "execution_count": 26,
   "id": "7c0adc04",
   "metadata": {
    "id": "INKjdlOziJw6"
   },
   "outputs": [],
   "source": [
    "array1d = arr"
   ]
  },
  {
   "cell_type": "code",
   "execution_count": 29,
   "id": "87efbd49",
   "metadata": {
    "id": "l5cjW7eUiJLF"
   },
   "outputs": [
    {
     "data": {
      "text/plain": [
       "(10,)"
      ]
     },
     "execution_count": 29,
     "metadata": {},
     "output_type": "execute_result"
    }
   ],
   "source": [
    "array1d.shape"
   ]
  },
  {
   "cell_type": "code",
   "execution_count": 30,
   "id": "da32612e",
   "metadata": {
    "id": "j6zxFQz6iJI2"
   },
   "outputs": [
    {
     "data": {
      "text/plain": [
       "0"
      ]
     },
     "execution_count": 30,
     "metadata": {},
     "output_type": "execute_result"
    }
   ],
   "source": [
    "array1d[0]"
   ]
  },
  {
   "cell_type": "code",
   "execution_count": 31,
   "id": "aee4a0e5",
   "metadata": {
    "id": "4hrE-VQgiJFt"
   },
   "outputs": [
    {
     "data": {
      "text/plain": [
       "9"
      ]
     },
     "execution_count": 31,
     "metadata": {},
     "output_type": "execute_result"
    }
   ],
   "source": [
    "array1d[-1]"
   ]
  },
  {
   "cell_type": "code",
   "execution_count": 32,
   "id": "36f8e774",
   "metadata": {
    "id": "EWqVwR8BhCn8"
   },
   "outputs": [
    {
     "data": {
      "text/plain": [
       "array([4, 5, 6])"
      ]
     },
     "execution_count": 32,
     "metadata": {},
     "output_type": "execute_result"
    }
   ],
   "source": [
    "array1d[4:7]"
   ]
  },
  {
   "cell_type": "markdown",
   "id": "385b03e7",
   "metadata": {
    "id": "Q9ne3q9aiZoW"
   },
   "source": [
    "### 2 wymiary\n",
    "\n",
    "[wiersz, kolumna]\n",
    "\n",
    "![image.png](data:image/png;base64,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)"
   ]
  },
  {
   "cell_type": "code",
   "execution_count": 33,
   "id": "5ed7260b",
   "metadata": {
    "id": "uz7CTVdTi0Ca"
   },
   "outputs": [
    {
     "data": {
      "text/plain": [
       "array([[0, 1, 2, 3, 4, 5, 6, 7, 8, 9]])"
      ]
     },
     "execution_count": 33,
     "metadata": {},
     "output_type": "execute_result"
    }
   ],
   "source": [
    "array1d.reshape((1, 10))"
   ]
  },
  {
   "cell_type": "code",
   "execution_count": 34,
   "id": "6294f3d9",
   "metadata": {
    "id": "0DURj0Ohiz-3"
   },
   "outputs": [
    {
     "data": {
      "text/plain": [
       "array([[0],\n",
       "       [1],\n",
       "       [2],\n",
       "       [3],\n",
       "       [4],\n",
       "       [5],\n",
       "       [6],\n",
       "       [7],\n",
       "       [8],\n",
       "       [9]])"
      ]
     },
     "execution_count": 34,
     "metadata": {},
     "output_type": "execute_result"
    }
   ],
   "source": [
    "array1d.reshape((10, 1))"
   ]
  },
  {
   "cell_type": "code",
   "execution_count": 35,
   "id": "99ad4107",
   "metadata": {
    "id": "tdtrTjg8iz6t"
   },
   "outputs": [
    {
     "data": {
      "text/plain": [
       "array([[0, 1, 2, 3, 4],\n",
       "       [5, 6, 7, 8, 9]])"
      ]
     },
     "execution_count": 35,
     "metadata": {},
     "output_type": "execute_result"
    }
   ],
   "source": [
    "array2d = array1d.reshape((2, 5))\n",
    "array2d"
   ]
  },
  {
   "cell_type": "code",
   "execution_count": 36,
   "id": "8f70ff7f",
   "metadata": {
    "id": "mrNHvgnaiz3B"
   },
   "outputs": [
    {
     "data": {
      "text/plain": [
       "(2, 5)"
      ]
     },
     "execution_count": 36,
     "metadata": {},
     "output_type": "execute_result"
    }
   ],
   "source": [
    "array2d.shape"
   ]
  },
  {
   "cell_type": "code",
   "execution_count": 37,
   "id": "060eb149",
   "metadata": {
    "id": "7plQ7omeizx2"
   },
   "outputs": [
    {
     "data": {
      "text/plain": [
       "array([0, 1, 2, 3, 4])"
      ]
     },
     "execution_count": 37,
     "metadata": {},
     "output_type": "execute_result"
    }
   ],
   "source": [
    "array2d[0]"
   ]
  },
  {
   "cell_type": "code",
   "execution_count": 38,
   "id": "9fd2e930",
   "metadata": {
    "id": "gTBHJncOizsc"
   },
   "outputs": [
    {
     "data": {
      "text/plain": [
       "array([5, 6, 7, 8, 9])"
      ]
     },
     "execution_count": 38,
     "metadata": {},
     "output_type": "execute_result"
    }
   ],
   "source": [
    "array2d[1]"
   ]
  },
  {
   "cell_type": "code",
   "execution_count": 39,
   "id": "0eb18df5",
   "metadata": {
    "id": "4mj8n1QBjS9m"
   },
   "outputs": [
    {
     "data": {
      "text/plain": [
       "0"
      ]
     },
     "execution_count": 39,
     "metadata": {},
     "output_type": "execute_result"
    }
   ],
   "source": [
    "array2d[0, 0]"
   ]
  },
  {
   "cell_type": "code",
   "execution_count": 40,
   "id": "aaceaed3",
   "metadata": {
    "id": "bSmXlKtujS0n"
   },
   "outputs": [
    {
     "data": {
      "text/plain": [
       "9"
      ]
     },
     "execution_count": 40,
     "metadata": {},
     "output_type": "execute_result"
    }
   ],
   "source": [
    "array2d[-1, -1]"
   ]
  },
  {
   "cell_type": "code",
   "execution_count": 41,
   "id": "a156236f",
   "metadata": {
    "id": "W8m6ps5QjSyN"
   },
   "outputs": [
    {
     "data": {
      "text/plain": [
       "7"
      ]
     },
     "execution_count": 41,
     "metadata": {},
     "output_type": "execute_result"
    }
   ],
   "source": [
    "# jak sięgnąć po 7?\n",
    "array2d[1, 2]"
   ]
  },
  {
   "cell_type": "code",
   "execution_count": 46,
   "id": "59d06b21",
   "metadata": {
    "id": "LYfpkt74jSus"
   },
   "outputs": [
    {
     "ename": "NameError",
     "evalue": "name 'array2d' is not defined",
     "output_type": "error",
     "traceback": [
      "\u001b[1;31m---------------------------------------------------------------------------\u001b[0m",
      "\u001b[1;31mNameError\u001b[0m                                 Traceback (most recent call last)",
      "Input \u001b[1;32mIn [46]\u001b[0m, in \u001b[0;36m<cell line: 2>\u001b[1;34m()\u001b[0m\n\u001b[0;32m      1\u001b[0m \u001b[38;5;66;03m# potrzebna cała kolumna?\u001b[39;00m\n\u001b[1;32m----> 2\u001b[0m \u001b[43marray2d\u001b[49m[:, \u001b[38;5;241m2\u001b[39m]\n",
      "\u001b[1;31mNameError\u001b[0m: name 'array2d' is not defined"
     ]
    }
   ],
   "source": [
    "# potrzebna cała kolumna?\n",
    "array2d[:, 2]"
   ]
  },
  {
   "cell_type": "markdown",
   "id": "fd26d573",
   "metadata": {
    "id": "85f5i3kZkAUl"
   },
   "source": [
    "### mnożenie macierzy"
   ]
  },
  {
   "cell_type": "code",
   "execution_count": 44,
   "id": "d4b8d302",
   "metadata": {
    "id": "iDVHKbcrkDPj"
   },
   "outputs": [
    {
     "ename": "NameError",
     "evalue": "name 'array2d' is not defined",
     "output_type": "error",
     "traceback": [
      "\u001b[1;31m---------------------------------------------------------------------------\u001b[0m",
      "\u001b[1;31mNameError\u001b[0m                                 Traceback (most recent call last)",
      "Input \u001b[1;32mIn [44]\u001b[0m, in \u001b[0;36m<cell line: 1>\u001b[1;34m()\u001b[0m\n\u001b[1;32m----> 1\u001b[0m \u001b[43marray2d\u001b[49m \u001b[38;5;241m*\u001b[39m array2d\n",
      "\u001b[1;31mNameError\u001b[0m: name 'array2d' is not defined"
     ]
    }
   ],
   "source": [
    "array2d * array2d"
   ]
  },
  {
   "cell_type": "code",
   "execution_count": 29,
   "id": "6e87b089",
   "metadata": {
    "id": "XcsvVEwykDBw"
   },
   "outputs": [
    {
     "ename": "NameError",
     "evalue": "name 'array2d' is not defined",
     "output_type": "error",
     "traceback": [
      "\u001b[1;31m---------------------------------------------------------------------------\u001b[0m",
      "\u001b[1;31mNameError\u001b[0m                                 Traceback (most recent call last)",
      "Input \u001b[1;32mIn [29]\u001b[0m, in \u001b[0;36m<cell line: 1>\u001b[1;34m()\u001b[0m\n\u001b[1;32m----> 1\u001b[0m \u001b[43marray2d\u001b[49m\u001b[38;5;241m.\u001b[39mshape, array2d\u001b[38;5;241m.\u001b[39mshape\n",
      "\u001b[1;31mNameError\u001b[0m: name 'array2d' is not defined"
     ]
    }
   ],
   "source": [
    "array2d.shape, array2d.shape"
   ]
  },
  {
   "cell_type": "code",
   "execution_count": 45,
   "id": "eb3e8ce7",
   "metadata": {
    "id": "BclCYF2ZkC-2"
   },
   "outputs": [
    {
     "ename": "ValueError",
     "evalue": "matmul: Input operand 1 has a mismatch in its core dimension 0, with gufunc signature (n?,k),(k,m?)->(n?,m?) (size 2 is different from 5)",
     "output_type": "error",
     "traceback": [
      "\u001b[1;31m---------------------------------------------------------------------------\u001b[0m",
      "\u001b[1;31mValueError\u001b[0m                                Traceback (most recent call last)",
      "Input \u001b[1;32mIn [45]\u001b[0m, in \u001b[0;36m<cell line: 1>\u001b[1;34m()\u001b[0m\n\u001b[1;32m----> 1\u001b[0m \u001b[43marray2d\u001b[49m\u001b[43m \u001b[49m\u001b[38;5;241;43m@\u001b[39;49m\u001b[43m \u001b[49m\u001b[43marray2d\u001b[49m\n",
      "\u001b[1;31mValueError\u001b[0m: matmul: Input operand 1 has a mismatch in its core dimension 0, with gufunc signature (n?,k),(k,m?)->(n?,m?) (size 2 is different from 5)"
     ]
    }
   ],
   "source": [
    "array2d @ array2d"
   ]
  },
  {
   "cell_type": "code",
   "execution_count": 25,
   "id": "78ee44d2",
   "metadata": {
    "id": "osTeVPkOkC78"
   },
   "outputs": [
    {
     "ename": "NameError",
     "evalue": "name 'array2d' is not defined",
     "output_type": "error",
     "traceback": [
      "\u001b[1;31m---------------------------------------------------------------------------\u001b[0m",
      "\u001b[1;31mNameError\u001b[0m                                 Traceback (most recent call last)",
      "Input \u001b[1;32mIn [25]\u001b[0m, in \u001b[0;36m<cell line: 1>\u001b[1;34m()\u001b[0m\n\u001b[1;32m----> 1\u001b[0m \u001b[43marray2d\u001b[49m\u001b[38;5;241m.\u001b[39mshape, array2d\u001b[38;5;241m.\u001b[39mtranspose()\u001b[38;5;241m.\u001b[39mshape\n",
      "\u001b[1;31mNameError\u001b[0m: name 'array2d' is not defined"
     ]
    }
   ],
   "source": [
    "array2d.shape, array2d.transpose().shape"
   ]
  },
  {
   "cell_type": "code",
   "execution_count": 24,
   "id": "c1343b05",
   "metadata": {
    "id": "aC5X3Pt6kC2R"
   },
   "outputs": [
    {
     "ename": "NameError",
     "evalue": "name 'array2d' is not defined",
     "output_type": "error",
     "traceback": [
      "\u001b[1;31m---------------------------------------------------------------------------\u001b[0m",
      "\u001b[1;31mNameError\u001b[0m                                 Traceback (most recent call last)",
      "Input \u001b[1;32mIn [24]\u001b[0m, in \u001b[0;36m<cell line: 1>\u001b[1;34m()\u001b[0m\n\u001b[1;32m----> 1\u001b[0m \u001b[43marray2d\u001b[49m \u001b[38;5;241m@\u001b[39m array2d\u001b[38;5;241m.\u001b[39mtranspose()\n",
      "\u001b[1;31mNameError\u001b[0m: name 'array2d' is not defined"
     ]
    }
   ],
   "source": [
    "array2d @ array2d.transpose()"
   ]
  },
  {
   "cell_type": "code",
   "execution_count": 48,
   "id": "9f8f1ccb",
   "metadata": {
    "id": "xA5lO8UZkM0w"
   },
   "outputs": [
    {
     "data": {
      "text/plain": [
       "((5, 2), (2, 5))"
      ]
     },
     "execution_count": 48,
     "metadata": {},
     "output_type": "execute_result"
    }
   ],
   "source": [
    "array2d.transpose().shape, array2d.shape"
   ]
  },
  {
   "cell_type": "code",
   "execution_count": 49,
   "id": "9c607097",
   "metadata": {
    "id": "mSTIuhKpkMuB"
   },
   "outputs": [
    {
     "data": {
      "text/plain": [
       "array([[25, 30, 35, 40, 45],\n",
       "       [30, 37, 44, 51, 58],\n",
       "       [35, 44, 53, 62, 71],\n",
       "       [40, 51, 62, 73, 84],\n",
       "       [45, 58, 71, 84, 97]])"
      ]
     },
     "execution_count": 49,
     "metadata": {},
     "output_type": "execute_result"
    }
   ],
   "source": [
    "array2d.transpose() @ array2d"
   ]
  },
  {
   "cell_type": "markdown",
   "id": "b9643e27",
   "metadata": {
    "id": "YaW1gIfmlDiH"
   },
   "source": [
    "## ZADANIA\n",
    "1. Wygeneruj macierz `A` (2d array) o wymiarach 4x4 wykorzystując linspace i reshape\n",
    "2. Na postawie `A` stwórz macierz `B` powstałą poprzez obliczenie kumulatywnej sumy po kolumnach i odwrócenie kolejności kolumn\n",
    "3. Oblicz iloczyn elementów macierzy `A` i `B`"
   ]
  },
  {
   "cell_type": "code",
   "execution_count": 5,
   "id": "c8054a57",
   "metadata": {
    "id": "Rq0A1VMRlHfb"
   },
   "outputs": [
    {
     "data": {
      "text/plain": [
       "array([[ 1.        ,  2.93333333,  4.86666667,  6.8       ],\n",
       "       [ 8.73333333, 10.66666667, 12.6       , 14.53333333],\n",
       "       [16.46666667, 18.4       , 20.33333333, 22.26666667],\n",
       "       [24.2       , 26.13333333, 28.06666667, 30.        ]])"
      ]
     },
     "execution_count": 5,
     "metadata": {},
     "output_type": "execute_result"
    }
   ],
   "source": [
    "A1 = np.linspace(1,30, 16)\n",
    "A = A1.reshape((4,4))\n",
    "A"
   ]
  },
  {
   "cell_type": "code",
   "execution_count": 47,
   "id": "cb2e7424",
   "metadata": {
    "id": "YBN_esKjlHX7"
   },
   "outputs": [
    {
     "data": {
      "text/plain": [
       "array([73.6       , 65.86666667, 58.13333333, 50.4       ])"
      ]
     },
     "execution_count": 47,
     "metadata": {},
     "output_type": "execute_result"
    }
   ],
   "source": [
    "B = np.sum(A, axis=0)\n",
    "B = B[::-1]\n",
    "B"
   ]
  },
  {
   "cell_type": "code",
   "execution_count": 48,
   "id": "2255a59e",
   "metadata": {
    "id": "re8RytKEiTzE"
   },
   "outputs": [
    {
     "data": {
      "text/plain": [
       "array([[  73.6       ,  193.20888889,  282.91555556,  342.72      ],\n",
       "       [ 642.77333333,  702.57777778,  732.48      ,  732.48      ],\n",
       "       [1211.94666667, 1211.94666667, 1182.04444444, 1122.24      ],\n",
       "       [1781.12      , 1721.31555556, 1631.60888889, 1512.        ]])"
      ]
     },
     "execution_count": 48,
     "metadata": {},
     "output_type": "execute_result"
    }
   ],
   "source": [
    "A*B"
   ]
  },
  {
   "cell_type": "markdown",
   "id": "b5433947",
   "metadata": {
    "id": "aTMcvQWjlXRB"
   },
   "source": [
    "# Pandas\n",
    "\n",
    "![image.png](data:image/png;base64,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)"
   ]
  },
  {
   "cell_type": "code",
   "execution_count": 49,
   "id": "19b2c718",
   "metadata": {
    "id": "eW243zh1lWky"
   },
   "outputs": [],
   "source": [
    "import pandas as pd"
   ]
  },
  {
   "cell_type": "markdown",
   "id": "6b6cf963",
   "metadata": {
    "id": "1am1Pp8omFEF"
   },
   "source": [
    "### wczytywanie danych"
   ]
  },
  {
   "cell_type": "code",
   "execution_count": 50,
   "id": "732a1152",
   "metadata": {
    "id": "z30lSf12mc1W"
   },
   "outputs": [],
   "source": [
    "IRIS_PATH = \"https://archive.ics.uci.edu/ml/machine-learning-databases/iris/iris.data\""
   ]
  },
  {
   "cell_type": "code",
   "execution_count": 51,
   "id": "084e4a1f",
   "metadata": {
    "id": "8kbYlglTlMNc"
   },
   "outputs": [
    {
     "data": {
      "text/html": [
       "<div>\n",
       "<style scoped>\n",
       "    .dataframe tbody tr th:only-of-type {\n",
       "        vertical-align: middle;\n",
       "    }\n",
       "\n",
       "    .dataframe tbody tr th {\n",
       "        vertical-align: top;\n",
       "    }\n",
       "\n",
       "    .dataframe thead th {\n",
       "        text-align: right;\n",
       "    }\n",
       "</style>\n",
       "<table border=\"1\" class=\"dataframe\">\n",
       "  <thead>\n",
       "    <tr style=\"text-align: right;\">\n",
       "      <th></th>\n",
       "      <th>5.1</th>\n",
       "      <th>3.5</th>\n",
       "      <th>1.4</th>\n",
       "      <th>0.2</th>\n",
       "      <th>Iris-setosa</th>\n",
       "    </tr>\n",
       "  </thead>\n",
       "  <tbody>\n",
       "    <tr>\n",
       "      <th>0</th>\n",
       "      <td>4.9</td>\n",
       "      <td>3.0</td>\n",
       "      <td>1.4</td>\n",
       "      <td>0.2</td>\n",
       "      <td>Iris-setosa</td>\n",
       "    </tr>\n",
       "    <tr>\n",
       "      <th>1</th>\n",
       "      <td>4.7</td>\n",
       "      <td>3.2</td>\n",
       "      <td>1.3</td>\n",
       "      <td>0.2</td>\n",
       "      <td>Iris-setosa</td>\n",
       "    </tr>\n",
       "    <tr>\n",
       "      <th>2</th>\n",
       "      <td>4.6</td>\n",
       "      <td>3.1</td>\n",
       "      <td>1.5</td>\n",
       "      <td>0.2</td>\n",
       "      <td>Iris-setosa</td>\n",
       "    </tr>\n",
       "    <tr>\n",
       "      <th>3</th>\n",
       "      <td>5.0</td>\n",
       "      <td>3.6</td>\n",
       "      <td>1.4</td>\n",
       "      <td>0.2</td>\n",
       "      <td>Iris-setosa</td>\n",
       "    </tr>\n",
       "    <tr>\n",
       "      <th>4</th>\n",
       "      <td>5.4</td>\n",
       "      <td>3.9</td>\n",
       "      <td>1.7</td>\n",
       "      <td>0.4</td>\n",
       "      <td>Iris-setosa</td>\n",
       "    </tr>\n",
       "    <tr>\n",
       "      <th>...</th>\n",
       "      <td>...</td>\n",
       "      <td>...</td>\n",
       "      <td>...</td>\n",
       "      <td>...</td>\n",
       "      <td>...</td>\n",
       "    </tr>\n",
       "    <tr>\n",
       "      <th>144</th>\n",
       "      <td>6.7</td>\n",
       "      <td>3.0</td>\n",
       "      <td>5.2</td>\n",
       "      <td>2.3</td>\n",
       "      <td>Iris-virginica</td>\n",
       "    </tr>\n",
       "    <tr>\n",
       "      <th>145</th>\n",
       "      <td>6.3</td>\n",
       "      <td>2.5</td>\n",
       "      <td>5.0</td>\n",
       "      <td>1.9</td>\n",
       "      <td>Iris-virginica</td>\n",
       "    </tr>\n",
       "    <tr>\n",
       "      <th>146</th>\n",
       "      <td>6.5</td>\n",
       "      <td>3.0</td>\n",
       "      <td>5.2</td>\n",
       "      <td>2.0</td>\n",
       "      <td>Iris-virginica</td>\n",
       "    </tr>\n",
       "    <tr>\n",
       "      <th>147</th>\n",
       "      <td>6.2</td>\n",
       "      <td>3.4</td>\n",
       "      <td>5.4</td>\n",
       "      <td>2.3</td>\n",
       "      <td>Iris-virginica</td>\n",
       "    </tr>\n",
       "    <tr>\n",
       "      <th>148</th>\n",
       "      <td>5.9</td>\n",
       "      <td>3.0</td>\n",
       "      <td>5.1</td>\n",
       "      <td>1.8</td>\n",
       "      <td>Iris-virginica</td>\n",
       "    </tr>\n",
       "  </tbody>\n",
       "</table>\n",
       "<p>149 rows × 5 columns</p>\n",
       "</div>"
      ],
      "text/plain": [
       "     5.1  3.5  1.4  0.2     Iris-setosa\n",
       "0    4.9  3.0  1.4  0.2     Iris-setosa\n",
       "1    4.7  3.2  1.3  0.2     Iris-setosa\n",
       "2    4.6  3.1  1.5  0.2     Iris-setosa\n",
       "3    5.0  3.6  1.4  0.2     Iris-setosa\n",
       "4    5.4  3.9  1.7  0.4     Iris-setosa\n",
       "..   ...  ...  ...  ...             ...\n",
       "144  6.7  3.0  5.2  2.3  Iris-virginica\n",
       "145  6.3  2.5  5.0  1.9  Iris-virginica\n",
       "146  6.5  3.0  5.2  2.0  Iris-virginica\n",
       "147  6.2  3.4  5.4  2.3  Iris-virginica\n",
       "148  5.9  3.0  5.1  1.8  Iris-virginica\n",
       "\n",
       "[149 rows x 5 columns]"
      ]
     },
     "execution_count": 51,
     "metadata": {},
     "output_type": "execute_result"
    }
   ],
   "source": [
    "pd.read_csv(IRIS_PATH)"
   ]
  },
  {
   "cell_type": "code",
   "execution_count": 52,
   "id": "9bff3fc8",
   "metadata": {
    "id": "C4WSCPRfmUOX"
   },
   "outputs": [
    {
     "data": {
      "text/html": [
       "<div>\n",
       "<style scoped>\n",
       "    .dataframe tbody tr th:only-of-type {\n",
       "        vertical-align: middle;\n",
       "    }\n",
       "\n",
       "    .dataframe tbody tr th {\n",
       "        vertical-align: top;\n",
       "    }\n",
       "\n",
       "    .dataframe thead th {\n",
       "        text-align: right;\n",
       "    }\n",
       "</style>\n",
       "<table border=\"1\" class=\"dataframe\">\n",
       "  <thead>\n",
       "    <tr style=\"text-align: right;\">\n",
       "      <th></th>\n",
       "      <th>sepal_length</th>\n",
       "      <th>sepal_width</th>\n",
       "      <th>petal_length</th>\n",
       "      <th>petal_width</th>\n",
       "      <th>class</th>\n",
       "    </tr>\n",
       "  </thead>\n",
       "  <tbody>\n",
       "    <tr>\n",
       "      <th>0</th>\n",
       "      <td>5.1</td>\n",
       "      <td>3.5</td>\n",
       "      <td>1.4</td>\n",
       "      <td>0.2</td>\n",
       "      <td>Iris-setosa</td>\n",
       "    </tr>\n",
       "    <tr>\n",
       "      <th>1</th>\n",
       "      <td>4.9</td>\n",
       "      <td>3.0</td>\n",
       "      <td>1.4</td>\n",
       "      <td>0.2</td>\n",
       "      <td>Iris-setosa</td>\n",
       "    </tr>\n",
       "    <tr>\n",
       "      <th>2</th>\n",
       "      <td>4.7</td>\n",
       "      <td>3.2</td>\n",
       "      <td>1.3</td>\n",
       "      <td>0.2</td>\n",
       "      <td>Iris-setosa</td>\n",
       "    </tr>\n",
       "    <tr>\n",
       "      <th>3</th>\n",
       "      <td>4.6</td>\n",
       "      <td>3.1</td>\n",
       "      <td>1.5</td>\n",
       "      <td>0.2</td>\n",
       "      <td>Iris-setosa</td>\n",
       "    </tr>\n",
       "    <tr>\n",
       "      <th>4</th>\n",
       "      <td>5.0</td>\n",
       "      <td>3.6</td>\n",
       "      <td>1.4</td>\n",
       "      <td>0.2</td>\n",
       "      <td>Iris-setosa</td>\n",
       "    </tr>\n",
       "    <tr>\n",
       "      <th>...</th>\n",
       "      <td>...</td>\n",
       "      <td>...</td>\n",
       "      <td>...</td>\n",
       "      <td>...</td>\n",
       "      <td>...</td>\n",
       "    </tr>\n",
       "    <tr>\n",
       "      <th>145</th>\n",
       "      <td>6.7</td>\n",
       "      <td>3.0</td>\n",
       "      <td>5.2</td>\n",
       "      <td>2.3</td>\n",
       "      <td>Iris-virginica</td>\n",
       "    </tr>\n",
       "    <tr>\n",
       "      <th>146</th>\n",
       "      <td>6.3</td>\n",
       "      <td>2.5</td>\n",
       "      <td>5.0</td>\n",
       "      <td>1.9</td>\n",
       "      <td>Iris-virginica</td>\n",
       "    </tr>\n",
       "    <tr>\n",
       "      <th>147</th>\n",
       "      <td>6.5</td>\n",
       "      <td>3.0</td>\n",
       "      <td>5.2</td>\n",
       "      <td>2.0</td>\n",
       "      <td>Iris-virginica</td>\n",
       "    </tr>\n",
       "    <tr>\n",
       "      <th>148</th>\n",
       "      <td>6.2</td>\n",
       "      <td>3.4</td>\n",
       "      <td>5.4</td>\n",
       "      <td>2.3</td>\n",
       "      <td>Iris-virginica</td>\n",
       "    </tr>\n",
       "    <tr>\n",
       "      <th>149</th>\n",
       "      <td>5.9</td>\n",
       "      <td>3.0</td>\n",
       "      <td>5.1</td>\n",
       "      <td>1.8</td>\n",
       "      <td>Iris-virginica</td>\n",
       "    </tr>\n",
       "  </tbody>\n",
       "</table>\n",
       "<p>150 rows × 5 columns</p>\n",
       "</div>"
      ],
      "text/plain": [
       "     sepal_length  sepal_width  petal_length  petal_width           class\n",
       "0             5.1          3.5           1.4          0.2     Iris-setosa\n",
       "1             4.9          3.0           1.4          0.2     Iris-setosa\n",
       "2             4.7          3.2           1.3          0.2     Iris-setosa\n",
       "3             4.6          3.1           1.5          0.2     Iris-setosa\n",
       "4             5.0          3.6           1.4          0.2     Iris-setosa\n",
       "..            ...          ...           ...          ...             ...\n",
       "145           6.7          3.0           5.2          2.3  Iris-virginica\n",
       "146           6.3          2.5           5.0          1.9  Iris-virginica\n",
       "147           6.5          3.0           5.2          2.0  Iris-virginica\n",
       "148           6.2          3.4           5.4          2.3  Iris-virginica\n",
       "149           5.9          3.0           5.1          1.8  Iris-virginica\n",
       "\n",
       "[150 rows x 5 columns]"
      ]
     },
     "execution_count": 52,
     "metadata": {},
     "output_type": "execute_result"
    }
   ],
   "source": [
    "col_names = [\"sepal_length\", \"sepal_width\", \"petal_length\", \"petal_width\", \"class\"]\n",
    "df = pd.read_csv(IRIS_PATH, names=col_names)\n",
    "df"
   ]
  },
  {
   "cell_type": "code",
   "execution_count": 53,
   "id": "a5de8c1f",
   "metadata": {
    "id": "T2e9HMUDyleE"
   },
   "outputs": [
    {
     "data": {
      "text/plain": [
       "(150, 5)"
      ]
     },
     "execution_count": 53,
     "metadata": {},
     "output_type": "execute_result"
    }
   ],
   "source": [
    "df.shape"
   ]
  },
  {
   "cell_type": "markdown",
   "id": "2a26dbc3",
   "metadata": {
    "id": "daxIwsqWmq9J"
   },
   "source": [
    "### zapisywanie danych"
   ]
  },
  {
   "cell_type": "code",
   "execution_count": 54,
   "id": "1240e10f",
   "metadata": {
    "id": "ZUVBYF7nmaJI"
   },
   "outputs": [],
   "source": [
    "df.to_csv(\"iris.csv\", index=False)"
   ]
  },
  {
   "cell_type": "markdown",
   "id": "626f1012",
   "metadata": {
    "id": "Ak552FEKm2FX"
   },
   "source": [
    "<br>\n",
    "\n",
    "|Format\t|Odczyt\t|Zapis|\n",
    "|------------------------|-----------|------------|\n",
    "|CSV\t|read_csv\t|to_csv|\n",
    "|JSON\t|read_json\t|to_json|\n",
    "|HTML\t|read_html\t|to_html|\n",
    "|MS Excel\t|read_excel|\tto_excel|\n",
    "|HDF5\t|read_hdf\t|to_hdf|\n",
    "|Parquet|\tread_parquet|\tto_parquet|\n",
    "|Pickle|read_pickle\t|to_pickle|\n",
    "|SQL\t|read_sql|\tto_sql|\n",
    "\n",
    "<br>"
   ]
  },
  {
   "cell_type": "markdown",
   "id": "4772ca7f",
   "metadata": {
    "id": "rcS0Y1Nxnarm"
   },
   "source": [
    "### podglądanie danych"
   ]
  },
  {
   "cell_type": "code",
   "execution_count": 55,
   "id": "ab1f236e",
   "metadata": {
    "id": "j6eMODt9oEKk"
   },
   "outputs": [
    {
     "data": {
      "text/html": [
       "<div>\n",
       "<style scoped>\n",
       "    .dataframe tbody tr th:only-of-type {\n",
       "        vertical-align: middle;\n",
       "    }\n",
       "\n",
       "    .dataframe tbody tr th {\n",
       "        vertical-align: top;\n",
       "    }\n",
       "\n",
       "    .dataframe thead th {\n",
       "        text-align: right;\n",
       "    }\n",
       "</style>\n",
       "<table border=\"1\" class=\"dataframe\">\n",
       "  <thead>\n",
       "    <tr style=\"text-align: right;\">\n",
       "      <th></th>\n",
       "      <th>sepal_length</th>\n",
       "      <th>sepal_width</th>\n",
       "      <th>petal_length</th>\n",
       "      <th>petal_width</th>\n",
       "      <th>class</th>\n",
       "    </tr>\n",
       "  </thead>\n",
       "  <tbody>\n",
       "    <tr>\n",
       "      <th>0</th>\n",
       "      <td>5.1</td>\n",
       "      <td>3.5</td>\n",
       "      <td>1.4</td>\n",
       "      <td>0.2</td>\n",
       "      <td>Iris-setosa</td>\n",
       "    </tr>\n",
       "    <tr>\n",
       "      <th>1</th>\n",
       "      <td>4.9</td>\n",
       "      <td>3.0</td>\n",
       "      <td>1.4</td>\n",
       "      <td>0.2</td>\n",
       "      <td>Iris-setosa</td>\n",
       "    </tr>\n",
       "    <tr>\n",
       "      <th>2</th>\n",
       "      <td>4.7</td>\n",
       "      <td>3.2</td>\n",
       "      <td>1.3</td>\n",
       "      <td>0.2</td>\n",
       "      <td>Iris-setosa</td>\n",
       "    </tr>\n",
       "    <tr>\n",
       "      <th>3</th>\n",
       "      <td>4.6</td>\n",
       "      <td>3.1</td>\n",
       "      <td>1.5</td>\n",
       "      <td>0.2</td>\n",
       "      <td>Iris-setosa</td>\n",
       "    </tr>\n",
       "    <tr>\n",
       "      <th>4</th>\n",
       "      <td>5.0</td>\n",
       "      <td>3.6</td>\n",
       "      <td>1.4</td>\n",
       "      <td>0.2</td>\n",
       "      <td>Iris-setosa</td>\n",
       "    </tr>\n",
       "  </tbody>\n",
       "</table>\n",
       "</div>"
      ],
      "text/plain": [
       "   sepal_length  sepal_width  petal_length  petal_width        class\n",
       "0           5.1          3.5           1.4          0.2  Iris-setosa\n",
       "1           4.9          3.0           1.4          0.2  Iris-setosa\n",
       "2           4.7          3.2           1.3          0.2  Iris-setosa\n",
       "3           4.6          3.1           1.5          0.2  Iris-setosa\n",
       "4           5.0          3.6           1.4          0.2  Iris-setosa"
      ]
     },
     "execution_count": 55,
     "metadata": {},
     "output_type": "execute_result"
    }
   ],
   "source": [
    "df.head()"
   ]
  },
  {
   "cell_type": "code",
   "execution_count": 56,
   "id": "0e741acd",
   "metadata": {
    "id": "oi0tz7NKoEGI"
   },
   "outputs": [
    {
     "data": {
      "text/html": [
       "<div>\n",
       "<style scoped>\n",
       "    .dataframe tbody tr th:only-of-type {\n",
       "        vertical-align: middle;\n",
       "    }\n",
       "\n",
       "    .dataframe tbody tr th {\n",
       "        vertical-align: top;\n",
       "    }\n",
       "\n",
       "    .dataframe thead th {\n",
       "        text-align: right;\n",
       "    }\n",
       "</style>\n",
       "<table border=\"1\" class=\"dataframe\">\n",
       "  <thead>\n",
       "    <tr style=\"text-align: right;\">\n",
       "      <th></th>\n",
       "      <th>sepal_length</th>\n",
       "      <th>sepal_width</th>\n",
       "      <th>petal_length</th>\n",
       "      <th>petal_width</th>\n",
       "      <th>class</th>\n",
       "    </tr>\n",
       "  </thead>\n",
       "  <tbody>\n",
       "    <tr>\n",
       "      <th>0</th>\n",
       "      <td>5.1</td>\n",
       "      <td>3.5</td>\n",
       "      <td>1.4</td>\n",
       "      <td>0.2</td>\n",
       "      <td>Iris-setosa</td>\n",
       "    </tr>\n",
       "    <tr>\n",
       "      <th>1</th>\n",
       "      <td>4.9</td>\n",
       "      <td>3.0</td>\n",
       "      <td>1.4</td>\n",
       "      <td>0.2</td>\n",
       "      <td>Iris-setosa</td>\n",
       "    </tr>\n",
       "    <tr>\n",
       "      <th>2</th>\n",
       "      <td>4.7</td>\n",
       "      <td>3.2</td>\n",
       "      <td>1.3</td>\n",
       "      <td>0.2</td>\n",
       "      <td>Iris-setosa</td>\n",
       "    </tr>\n",
       "    <tr>\n",
       "      <th>3</th>\n",
       "      <td>4.6</td>\n",
       "      <td>3.1</td>\n",
       "      <td>1.5</td>\n",
       "      <td>0.2</td>\n",
       "      <td>Iris-setosa</td>\n",
       "    </tr>\n",
       "    <tr>\n",
       "      <th>4</th>\n",
       "      <td>5.0</td>\n",
       "      <td>3.6</td>\n",
       "      <td>1.4</td>\n",
       "      <td>0.2</td>\n",
       "      <td>Iris-setosa</td>\n",
       "    </tr>\n",
       "    <tr>\n",
       "      <th>5</th>\n",
       "      <td>5.4</td>\n",
       "      <td>3.9</td>\n",
       "      <td>1.7</td>\n",
       "      <td>0.4</td>\n",
       "      <td>Iris-setosa</td>\n",
       "    </tr>\n",
       "    <tr>\n",
       "      <th>6</th>\n",
       "      <td>4.6</td>\n",
       "      <td>3.4</td>\n",
       "      <td>1.4</td>\n",
       "      <td>0.3</td>\n",
       "      <td>Iris-setosa</td>\n",
       "    </tr>\n",
       "    <tr>\n",
       "      <th>7</th>\n",
       "      <td>5.0</td>\n",
       "      <td>3.4</td>\n",
       "      <td>1.5</td>\n",
       "      <td>0.2</td>\n",
       "      <td>Iris-setosa</td>\n",
       "    </tr>\n",
       "    <tr>\n",
       "      <th>8</th>\n",
       "      <td>4.4</td>\n",
       "      <td>2.9</td>\n",
       "      <td>1.4</td>\n",
       "      <td>0.2</td>\n",
       "      <td>Iris-setosa</td>\n",
       "    </tr>\n",
       "    <tr>\n",
       "      <th>9</th>\n",
       "      <td>4.9</td>\n",
       "      <td>3.1</td>\n",
       "      <td>1.5</td>\n",
       "      <td>0.1</td>\n",
       "      <td>Iris-setosa</td>\n",
       "    </tr>\n",
       "  </tbody>\n",
       "</table>\n",
       "</div>"
      ],
      "text/plain": [
       "   sepal_length  sepal_width  petal_length  petal_width        class\n",
       "0           5.1          3.5           1.4          0.2  Iris-setosa\n",
       "1           4.9          3.0           1.4          0.2  Iris-setosa\n",
       "2           4.7          3.2           1.3          0.2  Iris-setosa\n",
       "3           4.6          3.1           1.5          0.2  Iris-setosa\n",
       "4           5.0          3.6           1.4          0.2  Iris-setosa\n",
       "5           5.4          3.9           1.7          0.4  Iris-setosa\n",
       "6           4.6          3.4           1.4          0.3  Iris-setosa\n",
       "7           5.0          3.4           1.5          0.2  Iris-setosa\n",
       "8           4.4          2.9           1.4          0.2  Iris-setosa\n",
       "9           4.9          3.1           1.5          0.1  Iris-setosa"
      ]
     },
     "execution_count": 56,
     "metadata": {},
     "output_type": "execute_result"
    }
   ],
   "source": [
    "df.head(10)"
   ]
  },
  {
   "cell_type": "code",
   "execution_count": 57,
   "id": "b6b5e0a7",
   "metadata": {
    "id": "cvRQux-cncEX"
   },
   "outputs": [
    {
     "data": {
      "text/html": [
       "<div>\n",
       "<style scoped>\n",
       "    .dataframe tbody tr th:only-of-type {\n",
       "        vertical-align: middle;\n",
       "    }\n",
       "\n",
       "    .dataframe tbody tr th {\n",
       "        vertical-align: top;\n",
       "    }\n",
       "\n",
       "    .dataframe thead th {\n",
       "        text-align: right;\n",
       "    }\n",
       "</style>\n",
       "<table border=\"1\" class=\"dataframe\">\n",
       "  <thead>\n",
       "    <tr style=\"text-align: right;\">\n",
       "      <th></th>\n",
       "      <th>sepal_length</th>\n",
       "      <th>sepal_width</th>\n",
       "      <th>petal_length</th>\n",
       "      <th>petal_width</th>\n",
       "      <th>class</th>\n",
       "    </tr>\n",
       "  </thead>\n",
       "  <tbody>\n",
       "    <tr>\n",
       "      <th>145</th>\n",
       "      <td>6.7</td>\n",
       "      <td>3.0</td>\n",
       "      <td>5.2</td>\n",
       "      <td>2.3</td>\n",
       "      <td>Iris-virginica</td>\n",
       "    </tr>\n",
       "    <tr>\n",
       "      <th>146</th>\n",
       "      <td>6.3</td>\n",
       "      <td>2.5</td>\n",
       "      <td>5.0</td>\n",
       "      <td>1.9</td>\n",
       "      <td>Iris-virginica</td>\n",
       "    </tr>\n",
       "    <tr>\n",
       "      <th>147</th>\n",
       "      <td>6.5</td>\n",
       "      <td>3.0</td>\n",
       "      <td>5.2</td>\n",
       "      <td>2.0</td>\n",
       "      <td>Iris-virginica</td>\n",
       "    </tr>\n",
       "    <tr>\n",
       "      <th>148</th>\n",
       "      <td>6.2</td>\n",
       "      <td>3.4</td>\n",
       "      <td>5.4</td>\n",
       "      <td>2.3</td>\n",
       "      <td>Iris-virginica</td>\n",
       "    </tr>\n",
       "    <tr>\n",
       "      <th>149</th>\n",
       "      <td>5.9</td>\n",
       "      <td>3.0</td>\n",
       "      <td>5.1</td>\n",
       "      <td>1.8</td>\n",
       "      <td>Iris-virginica</td>\n",
       "    </tr>\n",
       "  </tbody>\n",
       "</table>\n",
       "</div>"
      ],
      "text/plain": [
       "     sepal_length  sepal_width  petal_length  petal_width           class\n",
       "145           6.7          3.0           5.2          2.3  Iris-virginica\n",
       "146           6.3          2.5           5.0          1.9  Iris-virginica\n",
       "147           6.5          3.0           5.2          2.0  Iris-virginica\n",
       "148           6.2          3.4           5.4          2.3  Iris-virginica\n",
       "149           5.9          3.0           5.1          1.8  Iris-virginica"
      ]
     },
     "execution_count": 57,
     "metadata": {},
     "output_type": "execute_result"
    }
   ],
   "source": [
    "df.tail()"
   ]
  },
  {
   "cell_type": "markdown",
   "id": "a4cd8b4a",
   "metadata": {
    "id": "my4mUZzenaf5"
   },
   "source": [
    "### kolumny"
   ]
  },
  {
   "cell_type": "code",
   "execution_count": 58,
   "id": "e7354531",
   "metadata": {
    "id": "3PvggjLUoIxG"
   },
   "outputs": [
    {
     "data": {
      "text/plain": [
       "0      5.1\n",
       "1      4.9\n",
       "2      4.7\n",
       "3      4.6\n",
       "4      5.0\n",
       "      ... \n",
       "145    6.7\n",
       "146    6.3\n",
       "147    6.5\n",
       "148    6.2\n",
       "149    5.9\n",
       "Name: sepal_length, Length: 150, dtype: float64"
      ]
     },
     "execution_count": 58,
     "metadata": {},
     "output_type": "execute_result"
    }
   ],
   "source": [
    "df[\"sepal_length\"]"
   ]
  },
  {
   "cell_type": "code",
   "execution_count": 59,
   "id": "c23dae83",
   "metadata": {
    "id": "qf_65x78oIuO"
   },
   "outputs": [
    {
     "data": {
      "text/plain": [
       "0      17.85\n",
       "1      14.70\n",
       "2      15.04\n",
       "3      14.26\n",
       "4      18.00\n",
       "       ...  \n",
       "145    20.10\n",
       "146    15.75\n",
       "147    19.50\n",
       "148    21.08\n",
       "149    17.70\n",
       "Length: 150, dtype: float64"
      ]
     },
     "execution_count": 59,
     "metadata": {},
     "output_type": "execute_result"
    }
   ],
   "source": [
    "df[\"sepal_length\"] * df[\"sepal_width\"]"
   ]
  },
  {
   "cell_type": "code",
   "execution_count": 60,
   "id": "115af640",
   "metadata": {
    "id": "UYttu2e8oIrq"
   },
   "outputs": [],
   "source": [
    "df[\"sepal_length_x_width\"] = df[\"sepal_length\"] * df[\"sepal_width\"]"
   ]
  },
  {
   "cell_type": "code",
   "execution_count": 61,
   "id": "c9fa2fa4",
   "metadata": {
    "id": "PiEZyFxzoIpT"
   },
   "outputs": [
    {
     "data": {
      "text/html": [
       "<div>\n",
       "<style scoped>\n",
       "    .dataframe tbody tr th:only-of-type {\n",
       "        vertical-align: middle;\n",
       "    }\n",
       "\n",
       "    .dataframe tbody tr th {\n",
       "        vertical-align: top;\n",
       "    }\n",
       "\n",
       "    .dataframe thead th {\n",
       "        text-align: right;\n",
       "    }\n",
       "</style>\n",
       "<table border=\"1\" class=\"dataframe\">\n",
       "  <thead>\n",
       "    <tr style=\"text-align: right;\">\n",
       "      <th></th>\n",
       "      <th>sepal_length</th>\n",
       "      <th>sepal_width</th>\n",
       "      <th>petal_length</th>\n",
       "      <th>petal_width</th>\n",
       "      <th>class</th>\n",
       "      <th>sepal_length_x_width</th>\n",
       "    </tr>\n",
       "  </thead>\n",
       "  <tbody>\n",
       "    <tr>\n",
       "      <th>0</th>\n",
       "      <td>5.1</td>\n",
       "      <td>3.5</td>\n",
       "      <td>1.4</td>\n",
       "      <td>0.2</td>\n",
       "      <td>Iris-setosa</td>\n",
       "      <td>17.85</td>\n",
       "    </tr>\n",
       "    <tr>\n",
       "      <th>1</th>\n",
       "      <td>4.9</td>\n",
       "      <td>3.0</td>\n",
       "      <td>1.4</td>\n",
       "      <td>0.2</td>\n",
       "      <td>Iris-setosa</td>\n",
       "      <td>14.70</td>\n",
       "    </tr>\n",
       "    <tr>\n",
       "      <th>2</th>\n",
       "      <td>4.7</td>\n",
       "      <td>3.2</td>\n",
       "      <td>1.3</td>\n",
       "      <td>0.2</td>\n",
       "      <td>Iris-setosa</td>\n",
       "      <td>15.04</td>\n",
       "    </tr>\n",
       "    <tr>\n",
       "      <th>3</th>\n",
       "      <td>4.6</td>\n",
       "      <td>3.1</td>\n",
       "      <td>1.5</td>\n",
       "      <td>0.2</td>\n",
       "      <td>Iris-setosa</td>\n",
       "      <td>14.26</td>\n",
       "    </tr>\n",
       "    <tr>\n",
       "      <th>4</th>\n",
       "      <td>5.0</td>\n",
       "      <td>3.6</td>\n",
       "      <td>1.4</td>\n",
       "      <td>0.2</td>\n",
       "      <td>Iris-setosa</td>\n",
       "      <td>18.00</td>\n",
       "    </tr>\n",
       "  </tbody>\n",
       "</table>\n",
       "</div>"
      ],
      "text/plain": [
       "   sepal_length  sepal_width  petal_length  petal_width        class  \\\n",
       "0           5.1          3.5           1.4          0.2  Iris-setosa   \n",
       "1           4.9          3.0           1.4          0.2  Iris-setosa   \n",
       "2           4.7          3.2           1.3          0.2  Iris-setosa   \n",
       "3           4.6          3.1           1.5          0.2  Iris-setosa   \n",
       "4           5.0          3.6           1.4          0.2  Iris-setosa   \n",
       "\n",
       "   sepal_length_x_width  \n",
       "0                 17.85  \n",
       "1                 14.70  \n",
       "2                 15.04  \n",
       "3                 14.26  \n",
       "4                 18.00  "
      ]
     },
     "execution_count": 61,
     "metadata": {},
     "output_type": "execute_result"
    }
   ],
   "source": [
    "df.head()"
   ]
  },
  {
   "cell_type": "code",
   "execution_count": 62,
   "id": "5b5bc11e",
   "metadata": {
    "id": "1b7zHi2ioImz"
   },
   "outputs": [
    {
     "data": {
      "text/plain": [
       "0         setosa\n",
       "1         setosa\n",
       "2         setosa\n",
       "3         setosa\n",
       "4         setosa\n",
       "         ...    \n",
       "145    virginica\n",
       "146    virginica\n",
       "147    virginica\n",
       "148    virginica\n",
       "149    virginica\n",
       "Name: class, Length: 150, dtype: object"
      ]
     },
     "execution_count": 62,
     "metadata": {},
     "output_type": "execute_result"
    }
   ],
   "source": [
    "df[\"class\"].str.replace(\"Iris-\", \"\")"
   ]
  },
  {
   "cell_type": "code",
   "execution_count": 63,
   "id": "8a10f8f7",
   "metadata": {
    "id": "Z7GOe49eoIkM"
   },
   "outputs": [],
   "source": [
    "df[\"class\"] = df[\"class\"].str.replace(\"Iris-\", \"\")"
   ]
  },
  {
   "cell_type": "code",
   "execution_count": 64,
   "id": "d5acc489",
   "metadata": {
    "id": "1_sqnmqVoUf2"
   },
   "outputs": [
    {
     "data": {
      "text/html": [
       "<div>\n",
       "<style scoped>\n",
       "    .dataframe tbody tr th:only-of-type {\n",
       "        vertical-align: middle;\n",
       "    }\n",
       "\n",
       "    .dataframe tbody tr th {\n",
       "        vertical-align: top;\n",
       "    }\n",
       "\n",
       "    .dataframe thead th {\n",
       "        text-align: right;\n",
       "    }\n",
       "</style>\n",
       "<table border=\"1\" class=\"dataframe\">\n",
       "  <thead>\n",
       "    <tr style=\"text-align: right;\">\n",
       "      <th></th>\n",
       "      <th>sepal_length</th>\n",
       "      <th>sepal_width</th>\n",
       "      <th>petal_length</th>\n",
       "      <th>petal_width</th>\n",
       "      <th>class</th>\n",
       "      <th>sepal_length_x_width</th>\n",
       "    </tr>\n",
       "  </thead>\n",
       "  <tbody>\n",
       "    <tr>\n",
       "      <th>0</th>\n",
       "      <td>5.1</td>\n",
       "      <td>3.5</td>\n",
       "      <td>1.4</td>\n",
       "      <td>0.2</td>\n",
       "      <td>setosa</td>\n",
       "      <td>17.85</td>\n",
       "    </tr>\n",
       "    <tr>\n",
       "      <th>1</th>\n",
       "      <td>4.9</td>\n",
       "      <td>3.0</td>\n",
       "      <td>1.4</td>\n",
       "      <td>0.2</td>\n",
       "      <td>setosa</td>\n",
       "      <td>14.70</td>\n",
       "    </tr>\n",
       "    <tr>\n",
       "      <th>2</th>\n",
       "      <td>4.7</td>\n",
       "      <td>3.2</td>\n",
       "      <td>1.3</td>\n",
       "      <td>0.2</td>\n",
       "      <td>setosa</td>\n",
       "      <td>15.04</td>\n",
       "    </tr>\n",
       "    <tr>\n",
       "      <th>3</th>\n",
       "      <td>4.6</td>\n",
       "      <td>3.1</td>\n",
       "      <td>1.5</td>\n",
       "      <td>0.2</td>\n",
       "      <td>setosa</td>\n",
       "      <td>14.26</td>\n",
       "    </tr>\n",
       "    <tr>\n",
       "      <th>4</th>\n",
       "      <td>5.0</td>\n",
       "      <td>3.6</td>\n",
       "      <td>1.4</td>\n",
       "      <td>0.2</td>\n",
       "      <td>setosa</td>\n",
       "      <td>18.00</td>\n",
       "    </tr>\n",
       "  </tbody>\n",
       "</table>\n",
       "</div>"
      ],
      "text/plain": [
       "   sepal_length  sepal_width  petal_length  petal_width   class  \\\n",
       "0           5.1          3.5           1.4          0.2  setosa   \n",
       "1           4.9          3.0           1.4          0.2  setosa   \n",
       "2           4.7          3.2           1.3          0.2  setosa   \n",
       "3           4.6          3.1           1.5          0.2  setosa   \n",
       "4           5.0          3.6           1.4          0.2  setosa   \n",
       "\n",
       "   sepal_length_x_width  \n",
       "0                 17.85  \n",
       "1                 14.70  \n",
       "2                 15.04  \n",
       "3                 14.26  \n",
       "4                 18.00  "
      ]
     },
     "execution_count": 64,
     "metadata": {},
     "output_type": "execute_result"
    }
   ],
   "source": [
    "df.head()"
   ]
  },
  {
   "cell_type": "code",
   "execution_count": 65,
   "id": "237a4b94",
   "metadata": {
    "id": "Xdtp9vLaoUdS"
   },
   "outputs": [
    {
     "data": {
      "text/html": [
       "<div>\n",
       "<style scoped>\n",
       "    .dataframe tbody tr th:only-of-type {\n",
       "        vertical-align: middle;\n",
       "    }\n",
       "\n",
       "    .dataframe tbody tr th {\n",
       "        vertical-align: top;\n",
       "    }\n",
       "\n",
       "    .dataframe thead th {\n",
       "        text-align: right;\n",
       "    }\n",
       "</style>\n",
       "<table border=\"1\" class=\"dataframe\">\n",
       "  <thead>\n",
       "    <tr style=\"text-align: right;\">\n",
       "      <th></th>\n",
       "      <th>sepal_length</th>\n",
       "      <th>sepal_width</th>\n",
       "      <th>petal_length</th>\n",
       "      <th>petal_width</th>\n",
       "      <th>class</th>\n",
       "    </tr>\n",
       "  </thead>\n",
       "  <tbody>\n",
       "    <tr>\n",
       "      <th>0</th>\n",
       "      <td>5.1</td>\n",
       "      <td>3.5</td>\n",
       "      <td>1.4</td>\n",
       "      <td>0.2</td>\n",
       "      <td>setosa</td>\n",
       "    </tr>\n",
       "    <tr>\n",
       "      <th>1</th>\n",
       "      <td>4.9</td>\n",
       "      <td>3.0</td>\n",
       "      <td>1.4</td>\n",
       "      <td>0.2</td>\n",
       "      <td>setosa</td>\n",
       "    </tr>\n",
       "    <tr>\n",
       "      <th>2</th>\n",
       "      <td>4.7</td>\n",
       "      <td>3.2</td>\n",
       "      <td>1.3</td>\n",
       "      <td>0.2</td>\n",
       "      <td>setosa</td>\n",
       "    </tr>\n",
       "    <tr>\n",
       "      <th>3</th>\n",
       "      <td>4.6</td>\n",
       "      <td>3.1</td>\n",
       "      <td>1.5</td>\n",
       "      <td>0.2</td>\n",
       "      <td>setosa</td>\n",
       "    </tr>\n",
       "    <tr>\n",
       "      <th>4</th>\n",
       "      <td>5.0</td>\n",
       "      <td>3.6</td>\n",
       "      <td>1.4</td>\n",
       "      <td>0.2</td>\n",
       "      <td>setosa</td>\n",
       "    </tr>\n",
       "    <tr>\n",
       "      <th>...</th>\n",
       "      <td>...</td>\n",
       "      <td>...</td>\n",
       "      <td>...</td>\n",
       "      <td>...</td>\n",
       "      <td>...</td>\n",
       "    </tr>\n",
       "    <tr>\n",
       "      <th>145</th>\n",
       "      <td>6.7</td>\n",
       "      <td>3.0</td>\n",
       "      <td>5.2</td>\n",
       "      <td>2.3</td>\n",
       "      <td>virginica</td>\n",
       "    </tr>\n",
       "    <tr>\n",
       "      <th>146</th>\n",
       "      <td>6.3</td>\n",
       "      <td>2.5</td>\n",
       "      <td>5.0</td>\n",
       "      <td>1.9</td>\n",
       "      <td>virginica</td>\n",
       "    </tr>\n",
       "    <tr>\n",
       "      <th>147</th>\n",
       "      <td>6.5</td>\n",
       "      <td>3.0</td>\n",
       "      <td>5.2</td>\n",
       "      <td>2.0</td>\n",
       "      <td>virginica</td>\n",
       "    </tr>\n",
       "    <tr>\n",
       "      <th>148</th>\n",
       "      <td>6.2</td>\n",
       "      <td>3.4</td>\n",
       "      <td>5.4</td>\n",
       "      <td>2.3</td>\n",
       "      <td>virginica</td>\n",
       "    </tr>\n",
       "    <tr>\n",
       "      <th>149</th>\n",
       "      <td>5.9</td>\n",
       "      <td>3.0</td>\n",
       "      <td>5.1</td>\n",
       "      <td>1.8</td>\n",
       "      <td>virginica</td>\n",
       "    </tr>\n",
       "  </tbody>\n",
       "</table>\n",
       "<p>150 rows × 5 columns</p>\n",
       "</div>"
      ],
      "text/plain": [
       "     sepal_length  sepal_width  petal_length  petal_width      class\n",
       "0             5.1          3.5           1.4          0.2     setosa\n",
       "1             4.9          3.0           1.4          0.2     setosa\n",
       "2             4.7          3.2           1.3          0.2     setosa\n",
       "3             4.6          3.1           1.5          0.2     setosa\n",
       "4             5.0          3.6           1.4          0.2     setosa\n",
       "..            ...          ...           ...          ...        ...\n",
       "145           6.7          3.0           5.2          2.3  virginica\n",
       "146           6.3          2.5           5.0          1.9  virginica\n",
       "147           6.5          3.0           5.2          2.0  virginica\n",
       "148           6.2          3.4           5.4          2.3  virginica\n",
       "149           5.9          3.0           5.1          1.8  virginica\n",
       "\n",
       "[150 rows x 5 columns]"
      ]
     },
     "execution_count": 65,
     "metadata": {},
     "output_type": "execute_result"
    }
   ],
   "source": [
    "df.drop(columns=\"sepal_length_x_width\")"
   ]
  },
  {
   "cell_type": "code",
   "execution_count": 66,
   "id": "455d00d6",
   "metadata": {
    "id": "M8S7K_F1oUaj"
   },
   "outputs": [
    {
     "data": {
      "text/html": [
       "<div>\n",
       "<style scoped>\n",
       "    .dataframe tbody tr th:only-of-type {\n",
       "        vertical-align: middle;\n",
       "    }\n",
       "\n",
       "    .dataframe tbody tr th {\n",
       "        vertical-align: top;\n",
       "    }\n",
       "\n",
       "    .dataframe thead th {\n",
       "        text-align: right;\n",
       "    }\n",
       "</style>\n",
       "<table border=\"1\" class=\"dataframe\">\n",
       "  <thead>\n",
       "    <tr style=\"text-align: right;\">\n",
       "      <th></th>\n",
       "      <th>sepal_length</th>\n",
       "      <th>sepal_width</th>\n",
       "      <th>petal_length</th>\n",
       "      <th>petal_width</th>\n",
       "      <th>class</th>\n",
       "      <th>sepal_length_x_width</th>\n",
       "    </tr>\n",
       "  </thead>\n",
       "  <tbody>\n",
       "    <tr>\n",
       "      <th>0</th>\n",
       "      <td>5.1</td>\n",
       "      <td>3.5</td>\n",
       "      <td>1.4</td>\n",
       "      <td>0.2</td>\n",
       "      <td>setosa</td>\n",
       "      <td>17.85</td>\n",
       "    </tr>\n",
       "    <tr>\n",
       "      <th>1</th>\n",
       "      <td>4.9</td>\n",
       "      <td>3.0</td>\n",
       "      <td>1.4</td>\n",
       "      <td>0.2</td>\n",
       "      <td>setosa</td>\n",
       "      <td>14.70</td>\n",
       "    </tr>\n",
       "    <tr>\n",
       "      <th>2</th>\n",
       "      <td>4.7</td>\n",
       "      <td>3.2</td>\n",
       "      <td>1.3</td>\n",
       "      <td>0.2</td>\n",
       "      <td>setosa</td>\n",
       "      <td>15.04</td>\n",
       "    </tr>\n",
       "    <tr>\n",
       "      <th>3</th>\n",
       "      <td>4.6</td>\n",
       "      <td>3.1</td>\n",
       "      <td>1.5</td>\n",
       "      <td>0.2</td>\n",
       "      <td>setosa</td>\n",
       "      <td>14.26</td>\n",
       "    </tr>\n",
       "    <tr>\n",
       "      <th>4</th>\n",
       "      <td>5.0</td>\n",
       "      <td>3.6</td>\n",
       "      <td>1.4</td>\n",
       "      <td>0.2</td>\n",
       "      <td>setosa</td>\n",
       "      <td>18.00</td>\n",
       "    </tr>\n",
       "  </tbody>\n",
       "</table>\n",
       "</div>"
      ],
      "text/plain": [
       "   sepal_length  sepal_width  petal_length  petal_width   class  \\\n",
       "0           5.1          3.5           1.4          0.2  setosa   \n",
       "1           4.9          3.0           1.4          0.2  setosa   \n",
       "2           4.7          3.2           1.3          0.2  setosa   \n",
       "3           4.6          3.1           1.5          0.2  setosa   \n",
       "4           5.0          3.6           1.4          0.2  setosa   \n",
       "\n",
       "   sepal_length_x_width  \n",
       "0                 17.85  \n",
       "1                 14.70  \n",
       "2                 15.04  \n",
       "3                 14.26  \n",
       "4                 18.00  "
      ]
     },
     "execution_count": 66,
     "metadata": {},
     "output_type": "execute_result"
    }
   ],
   "source": [
    "df.head()"
   ]
  },
  {
   "cell_type": "code",
   "execution_count": 67,
   "id": "abfe6b02",
   "metadata": {
    "id": "4xWtSzVXoUYL"
   },
   "outputs": [],
   "source": [
    "df.drop(columns=\"sepal_length_x_width\", inplace=True)"
   ]
  },
  {
   "cell_type": "code",
   "execution_count": 68,
   "id": "e7b1bc87",
   "metadata": {
    "id": "OeLys_u9oUVz"
   },
   "outputs": [
    {
     "data": {
      "text/html": [
       "<div>\n",
       "<style scoped>\n",
       "    .dataframe tbody tr th:only-of-type {\n",
       "        vertical-align: middle;\n",
       "    }\n",
       "\n",
       "    .dataframe tbody tr th {\n",
       "        vertical-align: top;\n",
       "    }\n",
       "\n",
       "    .dataframe thead th {\n",
       "        text-align: right;\n",
       "    }\n",
       "</style>\n",
       "<table border=\"1\" class=\"dataframe\">\n",
       "  <thead>\n",
       "    <tr style=\"text-align: right;\">\n",
       "      <th></th>\n",
       "      <th>sepal_length</th>\n",
       "      <th>sepal_width</th>\n",
       "      <th>petal_length</th>\n",
       "      <th>petal_width</th>\n",
       "      <th>class</th>\n",
       "    </tr>\n",
       "  </thead>\n",
       "  <tbody>\n",
       "    <tr>\n",
       "      <th>0</th>\n",
       "      <td>5.1</td>\n",
       "      <td>3.5</td>\n",
       "      <td>1.4</td>\n",
       "      <td>0.2</td>\n",
       "      <td>setosa</td>\n",
       "    </tr>\n",
       "    <tr>\n",
       "      <th>1</th>\n",
       "      <td>4.9</td>\n",
       "      <td>3.0</td>\n",
       "      <td>1.4</td>\n",
       "      <td>0.2</td>\n",
       "      <td>setosa</td>\n",
       "    </tr>\n",
       "    <tr>\n",
       "      <th>2</th>\n",
       "      <td>4.7</td>\n",
       "      <td>3.2</td>\n",
       "      <td>1.3</td>\n",
       "      <td>0.2</td>\n",
       "      <td>setosa</td>\n",
       "    </tr>\n",
       "    <tr>\n",
       "      <th>3</th>\n",
       "      <td>4.6</td>\n",
       "      <td>3.1</td>\n",
       "      <td>1.5</td>\n",
       "      <td>0.2</td>\n",
       "      <td>setosa</td>\n",
       "    </tr>\n",
       "    <tr>\n",
       "      <th>4</th>\n",
       "      <td>5.0</td>\n",
       "      <td>3.6</td>\n",
       "      <td>1.4</td>\n",
       "      <td>0.2</td>\n",
       "      <td>setosa</td>\n",
       "    </tr>\n",
       "  </tbody>\n",
       "</table>\n",
       "</div>"
      ],
      "text/plain": [
       "   sepal_length  sepal_width  petal_length  petal_width   class\n",
       "0           5.1          3.5           1.4          0.2  setosa\n",
       "1           4.9          3.0           1.4          0.2  setosa\n",
       "2           4.7          3.2           1.3          0.2  setosa\n",
       "3           4.6          3.1           1.5          0.2  setosa\n",
       "4           5.0          3.6           1.4          0.2  setosa"
      ]
     },
     "execution_count": 68,
     "metadata": {},
     "output_type": "execute_result"
    }
   ],
   "source": [
    "df.head()"
   ]
  },
  {
   "cell_type": "code",
   "execution_count": 69,
   "id": "0d5eaccd",
   "metadata": {
    "id": "yF5p-m1MoUQj"
   },
   "outputs": [
    {
     "data": {
      "text/html": [
       "<div>\n",
       "<style scoped>\n",
       "    .dataframe tbody tr th:only-of-type {\n",
       "        vertical-align: middle;\n",
       "    }\n",
       "\n",
       "    .dataframe tbody tr th {\n",
       "        vertical-align: top;\n",
       "    }\n",
       "\n",
       "    .dataframe thead th {\n",
       "        text-align: right;\n",
       "    }\n",
       "</style>\n",
       "<table border=\"1\" class=\"dataframe\">\n",
       "  <thead>\n",
       "    <tr style=\"text-align: right;\">\n",
       "      <th></th>\n",
       "      <th>sepal_length</th>\n",
       "      <th>sepal_width</th>\n",
       "    </tr>\n",
       "  </thead>\n",
       "  <tbody>\n",
       "    <tr>\n",
       "      <th>0</th>\n",
       "      <td>5.1</td>\n",
       "      <td>3.5</td>\n",
       "    </tr>\n",
       "    <tr>\n",
       "      <th>1</th>\n",
       "      <td>4.9</td>\n",
       "      <td>3.0</td>\n",
       "    </tr>\n",
       "    <tr>\n",
       "      <th>2</th>\n",
       "      <td>4.7</td>\n",
       "      <td>3.2</td>\n",
       "    </tr>\n",
       "    <tr>\n",
       "      <th>3</th>\n",
       "      <td>4.6</td>\n",
       "      <td>3.1</td>\n",
       "    </tr>\n",
       "    <tr>\n",
       "      <th>4</th>\n",
       "      <td>5.0</td>\n",
       "      <td>3.6</td>\n",
       "    </tr>\n",
       "    <tr>\n",
       "      <th>...</th>\n",
       "      <td>...</td>\n",
       "      <td>...</td>\n",
       "    </tr>\n",
       "    <tr>\n",
       "      <th>145</th>\n",
       "      <td>6.7</td>\n",
       "      <td>3.0</td>\n",
       "    </tr>\n",
       "    <tr>\n",
       "      <th>146</th>\n",
       "      <td>6.3</td>\n",
       "      <td>2.5</td>\n",
       "    </tr>\n",
       "    <tr>\n",
       "      <th>147</th>\n",
       "      <td>6.5</td>\n",
       "      <td>3.0</td>\n",
       "    </tr>\n",
       "    <tr>\n",
       "      <th>148</th>\n",
       "      <td>6.2</td>\n",
       "      <td>3.4</td>\n",
       "    </tr>\n",
       "    <tr>\n",
       "      <th>149</th>\n",
       "      <td>5.9</td>\n",
       "      <td>3.0</td>\n",
       "    </tr>\n",
       "  </tbody>\n",
       "</table>\n",
       "<p>150 rows × 2 columns</p>\n",
       "</div>"
      ],
      "text/plain": [
       "     sepal_length  sepal_width\n",
       "0             5.1          3.5\n",
       "1             4.9          3.0\n",
       "2             4.7          3.2\n",
       "3             4.6          3.1\n",
       "4             5.0          3.6\n",
       "..            ...          ...\n",
       "145           6.7          3.0\n",
       "146           6.3          2.5\n",
       "147           6.5          3.0\n",
       "148           6.2          3.4\n",
       "149           5.9          3.0\n",
       "\n",
       "[150 rows x 2 columns]"
      ]
     },
     "execution_count": 69,
     "metadata": {},
     "output_type": "execute_result"
    }
   ],
   "source": [
    "df[[\"sepal_length\", \"sepal_width\"]]"
   ]
  },
  {
   "cell_type": "code",
   "execution_count": 70,
   "id": "5669455e",
   "metadata": {
    "id": "UNMTC93ZofU9"
   },
   "outputs": [
    {
     "data": {
      "text/html": [
       "<div>\n",
       "<style scoped>\n",
       "    .dataframe tbody tr th:only-of-type {\n",
       "        vertical-align: middle;\n",
       "    }\n",
       "\n",
       "    .dataframe tbody tr th {\n",
       "        vertical-align: top;\n",
       "    }\n",
       "\n",
       "    .dataframe thead th {\n",
       "        text-align: right;\n",
       "    }\n",
       "</style>\n",
       "<table border=\"1\" class=\"dataframe\">\n",
       "  <thead>\n",
       "    <tr style=\"text-align: right;\">\n",
       "      <th></th>\n",
       "      <th>sepal_length</th>\n",
       "      <th>sepal_width</th>\n",
       "    </tr>\n",
       "  </thead>\n",
       "  <tbody>\n",
       "    <tr>\n",
       "      <th>0</th>\n",
       "      <td>10.2</td>\n",
       "      <td>7.0</td>\n",
       "    </tr>\n",
       "    <tr>\n",
       "      <th>1</th>\n",
       "      <td>9.8</td>\n",
       "      <td>6.0</td>\n",
       "    </tr>\n",
       "    <tr>\n",
       "      <th>2</th>\n",
       "      <td>9.4</td>\n",
       "      <td>6.4</td>\n",
       "    </tr>\n",
       "    <tr>\n",
       "      <th>3</th>\n",
       "      <td>9.2</td>\n",
       "      <td>6.2</td>\n",
       "    </tr>\n",
       "    <tr>\n",
       "      <th>4</th>\n",
       "      <td>10.0</td>\n",
       "      <td>7.2</td>\n",
       "    </tr>\n",
       "    <tr>\n",
       "      <th>...</th>\n",
       "      <td>...</td>\n",
       "      <td>...</td>\n",
       "    </tr>\n",
       "    <tr>\n",
       "      <th>145</th>\n",
       "      <td>13.4</td>\n",
       "      <td>6.0</td>\n",
       "    </tr>\n",
       "    <tr>\n",
       "      <th>146</th>\n",
       "      <td>12.6</td>\n",
       "      <td>5.0</td>\n",
       "    </tr>\n",
       "    <tr>\n",
       "      <th>147</th>\n",
       "      <td>13.0</td>\n",
       "      <td>6.0</td>\n",
       "    </tr>\n",
       "    <tr>\n",
       "      <th>148</th>\n",
       "      <td>12.4</td>\n",
       "      <td>6.8</td>\n",
       "    </tr>\n",
       "    <tr>\n",
       "      <th>149</th>\n",
       "      <td>11.8</td>\n",
       "      <td>6.0</td>\n",
       "    </tr>\n",
       "  </tbody>\n",
       "</table>\n",
       "<p>150 rows × 2 columns</p>\n",
       "</div>"
      ],
      "text/plain": [
       "     sepal_length  sepal_width\n",
       "0            10.2          7.0\n",
       "1             9.8          6.0\n",
       "2             9.4          6.4\n",
       "3             9.2          6.2\n",
       "4            10.0          7.2\n",
       "..            ...          ...\n",
       "145          13.4          6.0\n",
       "146          12.6          5.0\n",
       "147          13.0          6.0\n",
       "148          12.4          6.8\n",
       "149          11.8          6.0\n",
       "\n",
       "[150 rows x 2 columns]"
      ]
     },
     "execution_count": 70,
     "metadata": {},
     "output_type": "execute_result"
    }
   ],
   "source": [
    "df[[\"sepal_length\", \"sepal_width\"]] * 2"
   ]
  },
  {
   "cell_type": "code",
   "execution_count": 71,
   "id": "3281df9a",
   "metadata": {
    "id": "ereKZA2BngVH"
   },
   "outputs": [
    {
     "data": {
      "text/html": [
       "<div>\n",
       "<style scoped>\n",
       "    .dataframe tbody tr th:only-of-type {\n",
       "        vertical-align: middle;\n",
       "    }\n",
       "\n",
       "    .dataframe tbody tr th {\n",
       "        vertical-align: top;\n",
       "    }\n",
       "\n",
       "    .dataframe thead th {\n",
       "        text-align: right;\n",
       "    }\n",
       "</style>\n",
       "<table border=\"1\" class=\"dataframe\">\n",
       "  <thead>\n",
       "    <tr style=\"text-align: right;\">\n",
       "      <th></th>\n",
       "      <th>sepal_length</th>\n",
       "      <th>sepal_width</th>\n",
       "      <th>petal_length</th>\n",
       "      <th>petal_width</th>\n",
       "      <th>class</th>\n",
       "    </tr>\n",
       "  </thead>\n",
       "  <tbody>\n",
       "    <tr>\n",
       "      <th>0</th>\n",
       "      <td>5.1</td>\n",
       "      <td>3.5</td>\n",
       "      <td>1.4</td>\n",
       "      <td>0.2</td>\n",
       "      <td>setosa</td>\n",
       "    </tr>\n",
       "    <tr>\n",
       "      <th>1</th>\n",
       "      <td>4.9</td>\n",
       "      <td>3.0</td>\n",
       "      <td>1.4</td>\n",
       "      <td>0.2</td>\n",
       "      <td>setosa</td>\n",
       "    </tr>\n",
       "    <tr>\n",
       "      <th>2</th>\n",
       "      <td>4.7</td>\n",
       "      <td>3.2</td>\n",
       "      <td>1.3</td>\n",
       "      <td>0.2</td>\n",
       "      <td>setosa</td>\n",
       "    </tr>\n",
       "    <tr>\n",
       "      <th>3</th>\n",
       "      <td>4.6</td>\n",
       "      <td>3.1</td>\n",
       "      <td>1.5</td>\n",
       "      <td>0.2</td>\n",
       "      <td>setosa</td>\n",
       "    </tr>\n",
       "    <tr>\n",
       "      <th>4</th>\n",
       "      <td>5.0</td>\n",
       "      <td>3.6</td>\n",
       "      <td>1.4</td>\n",
       "      <td>0.2</td>\n",
       "      <td>setosa</td>\n",
       "    </tr>\n",
       "  </tbody>\n",
       "</table>\n",
       "</div>"
      ],
      "text/plain": [
       "   sepal_length  sepal_width  petal_length  petal_width   class\n",
       "0           5.1          3.5           1.4          0.2  setosa\n",
       "1           4.9          3.0           1.4          0.2  setosa\n",
       "2           4.7          3.2           1.3          0.2  setosa\n",
       "3           4.6          3.1           1.5          0.2  setosa\n",
       "4           5.0          3.6           1.4          0.2  setosa"
      ]
     },
     "execution_count": 71,
     "metadata": {},
     "output_type": "execute_result"
    }
   ],
   "source": [
    "df.head()"
   ]
  },
  {
   "cell_type": "markdown",
   "id": "324d0f5f",
   "metadata": {
    "id": "ZaCkJQ2InaZ1"
   },
   "source": [
    "### typy"
   ]
  },
  {
   "cell_type": "code",
   "execution_count": 72,
   "id": "d0156c9c",
   "metadata": {
    "id": "fqOb-f_Doj_d"
   },
   "outputs": [
    {
     "data": {
      "text/plain": [
       "sepal_length    float64\n",
       "sepal_width     float64\n",
       "petal_length    float64\n",
       "petal_width     float64\n",
       "class            object\n",
       "dtype: object"
      ]
     },
     "execution_count": 72,
     "metadata": {},
     "output_type": "execute_result"
    }
   ],
   "source": [
    "df.dtypes"
   ]
  },
  {
   "cell_type": "code",
   "execution_count": 73,
   "id": "66466ea7",
   "metadata": {
    "id": "tFsosCLznthV"
   },
   "outputs": [
    {
     "data": {
      "text/plain": [
       "dtype('float64')"
      ]
     },
     "execution_count": 73,
     "metadata": {},
     "output_type": "execute_result"
    }
   ],
   "source": [
    "df[\"sepal_length\"].dtype"
   ]
  },
  {
   "cell_type": "markdown",
   "id": "e49042d2",
   "metadata": {
    "id": "GxIHWaaQnaVF"
   },
   "source": [
    "### numpy"
   ]
  },
  {
   "cell_type": "code",
   "execution_count": 74,
   "id": "50d21b37",
   "metadata": {
    "id": "41Lnr67ConDK"
   },
   "outputs": [
    {
     "data": {
      "text/plain": [
       "0      1.629241\n",
       "1      1.589235\n",
       "2      1.547563\n",
       "3      1.526056\n",
       "4      1.609438\n",
       "         ...   \n",
       "145    1.902108\n",
       "146    1.840550\n",
       "147    1.871802\n",
       "148    1.824549\n",
       "149    1.774952\n",
       "Name: sepal_length, Length: 150, dtype: float64"
      ]
     },
     "execution_count": 74,
     "metadata": {},
     "output_type": "execute_result"
    }
   ],
   "source": [
    "np.log(df[\"sepal_length\"])"
   ]
  },
  {
   "cell_type": "code",
   "execution_count": 75,
   "id": "0067dd10",
   "metadata": {
    "id": "zzn264WwonA7"
   },
   "outputs": [
    {
     "data": {
      "text/html": [
       "<div>\n",
       "<style scoped>\n",
       "    .dataframe tbody tr th:only-of-type {\n",
       "        vertical-align: middle;\n",
       "    }\n",
       "\n",
       "    .dataframe tbody tr th {\n",
       "        vertical-align: top;\n",
       "    }\n",
       "\n",
       "    .dataframe thead th {\n",
       "        text-align: right;\n",
       "    }\n",
       "</style>\n",
       "<table border=\"1\" class=\"dataframe\">\n",
       "  <thead>\n",
       "    <tr style=\"text-align: right;\">\n",
       "      <th></th>\n",
       "      <th>sepal_length</th>\n",
       "      <th>sepal_width</th>\n",
       "    </tr>\n",
       "  </thead>\n",
       "  <tbody>\n",
       "    <tr>\n",
       "      <th>0</th>\n",
       "      <td>1.629241</td>\n",
       "      <td>1.252763</td>\n",
       "    </tr>\n",
       "    <tr>\n",
       "      <th>1</th>\n",
       "      <td>1.589235</td>\n",
       "      <td>1.098612</td>\n",
       "    </tr>\n",
       "    <tr>\n",
       "      <th>2</th>\n",
       "      <td>1.547563</td>\n",
       "      <td>1.163151</td>\n",
       "    </tr>\n",
       "    <tr>\n",
       "      <th>3</th>\n",
       "      <td>1.526056</td>\n",
       "      <td>1.131402</td>\n",
       "    </tr>\n",
       "    <tr>\n",
       "      <th>4</th>\n",
       "      <td>1.609438</td>\n",
       "      <td>1.280934</td>\n",
       "    </tr>\n",
       "    <tr>\n",
       "      <th>...</th>\n",
       "      <td>...</td>\n",
       "      <td>...</td>\n",
       "    </tr>\n",
       "    <tr>\n",
       "      <th>145</th>\n",
       "      <td>1.902108</td>\n",
       "      <td>1.098612</td>\n",
       "    </tr>\n",
       "    <tr>\n",
       "      <th>146</th>\n",
       "      <td>1.840550</td>\n",
       "      <td>0.916291</td>\n",
       "    </tr>\n",
       "    <tr>\n",
       "      <th>147</th>\n",
       "      <td>1.871802</td>\n",
       "      <td>1.098612</td>\n",
       "    </tr>\n",
       "    <tr>\n",
       "      <th>148</th>\n",
       "      <td>1.824549</td>\n",
       "      <td>1.223775</td>\n",
       "    </tr>\n",
       "    <tr>\n",
       "      <th>149</th>\n",
       "      <td>1.774952</td>\n",
       "      <td>1.098612</td>\n",
       "    </tr>\n",
       "  </tbody>\n",
       "</table>\n",
       "<p>150 rows × 2 columns</p>\n",
       "</div>"
      ],
      "text/plain": [
       "     sepal_length  sepal_width\n",
       "0        1.629241     1.252763\n",
       "1        1.589235     1.098612\n",
       "2        1.547563     1.163151\n",
       "3        1.526056     1.131402\n",
       "4        1.609438     1.280934\n",
       "..            ...          ...\n",
       "145      1.902108     1.098612\n",
       "146      1.840550     0.916291\n",
       "147      1.871802     1.098612\n",
       "148      1.824549     1.223775\n",
       "149      1.774952     1.098612\n",
       "\n",
       "[150 rows x 2 columns]"
      ]
     },
     "execution_count": 75,
     "metadata": {},
     "output_type": "execute_result"
    }
   ],
   "source": [
    "np.log(df[[\"sepal_length\", \"sepal_width\"]])"
   ]
  },
  {
   "cell_type": "code",
   "execution_count": 76,
   "id": "d5fd2ad7",
   "metadata": {
    "id": "tndAF7bLom-y"
   },
   "outputs": [
    {
     "data": {
      "text/plain": [
       "array([[5.1, 3.5, 1.4, 0.2, 'setosa'],\n",
       "       [4.9, 3.0, 1.4, 0.2, 'setosa'],\n",
       "       [4.7, 3.2, 1.3, 0.2, 'setosa'],\n",
       "       [4.6, 3.1, 1.5, 0.2, 'setosa'],\n",
       "       [5.0, 3.6, 1.4, 0.2, 'setosa'],\n",
       "       [5.4, 3.9, 1.7, 0.4, 'setosa'],\n",
       "       [4.6, 3.4, 1.4, 0.3, 'setosa'],\n",
       "       [5.0, 3.4, 1.5, 0.2, 'setosa'],\n",
       "       [4.4, 2.9, 1.4, 0.2, 'setosa'],\n",
       "       [4.9, 3.1, 1.5, 0.1, 'setosa'],\n",
       "       [5.4, 3.7, 1.5, 0.2, 'setosa'],\n",
       "       [4.8, 3.4, 1.6, 0.2, 'setosa'],\n",
       "       [4.8, 3.0, 1.4, 0.1, 'setosa'],\n",
       "       [4.3, 3.0, 1.1, 0.1, 'setosa'],\n",
       "       [5.8, 4.0, 1.2, 0.2, 'setosa'],\n",
       "       [5.7, 4.4, 1.5, 0.4, 'setosa'],\n",
       "       [5.4, 3.9, 1.3, 0.4, 'setosa'],\n",
       "       [5.1, 3.5, 1.4, 0.3, 'setosa'],\n",
       "       [5.7, 3.8, 1.7, 0.3, 'setosa'],\n",
       "       [5.1, 3.8, 1.5, 0.3, 'setosa'],\n",
       "       [5.4, 3.4, 1.7, 0.2, 'setosa'],\n",
       "       [5.1, 3.7, 1.5, 0.4, 'setosa'],\n",
       "       [4.6, 3.6, 1.0, 0.2, 'setosa'],\n",
       "       [5.1, 3.3, 1.7, 0.5, 'setosa'],\n",
       "       [4.8, 3.4, 1.9, 0.2, 'setosa'],\n",
       "       [5.0, 3.0, 1.6, 0.2, 'setosa'],\n",
       "       [5.0, 3.4, 1.6, 0.4, 'setosa'],\n",
       "       [5.2, 3.5, 1.5, 0.2, 'setosa'],\n",
       "       [5.2, 3.4, 1.4, 0.2, 'setosa'],\n",
       "       [4.7, 3.2, 1.6, 0.2, 'setosa'],\n",
       "       [4.8, 3.1, 1.6, 0.2, 'setosa'],\n",
       "       [5.4, 3.4, 1.5, 0.4, 'setosa'],\n",
       "       [5.2, 4.1, 1.5, 0.1, 'setosa'],\n",
       "       [5.5, 4.2, 1.4, 0.2, 'setosa'],\n",
       "       [4.9, 3.1, 1.5, 0.1, 'setosa'],\n",
       "       [5.0, 3.2, 1.2, 0.2, 'setosa'],\n",
       "       [5.5, 3.5, 1.3, 0.2, 'setosa'],\n",
       "       [4.9, 3.1, 1.5, 0.1, 'setosa'],\n",
       "       [4.4, 3.0, 1.3, 0.2, 'setosa'],\n",
       "       [5.1, 3.4, 1.5, 0.2, 'setosa'],\n",
       "       [5.0, 3.5, 1.3, 0.3, 'setosa'],\n",
       "       [4.5, 2.3, 1.3, 0.3, 'setosa'],\n",
       "       [4.4, 3.2, 1.3, 0.2, 'setosa'],\n",
       "       [5.0, 3.5, 1.6, 0.6, 'setosa'],\n",
       "       [5.1, 3.8, 1.9, 0.4, 'setosa'],\n",
       "       [4.8, 3.0, 1.4, 0.3, 'setosa'],\n",
       "       [5.1, 3.8, 1.6, 0.2, 'setosa'],\n",
       "       [4.6, 3.2, 1.4, 0.2, 'setosa'],\n",
       "       [5.3, 3.7, 1.5, 0.2, 'setosa'],\n",
       "       [5.0, 3.3, 1.4, 0.2, 'setosa'],\n",
       "       [7.0, 3.2, 4.7, 1.4, 'versicolor'],\n",
       "       [6.4, 3.2, 4.5, 1.5, 'versicolor'],\n",
       "       [6.9, 3.1, 4.9, 1.5, 'versicolor'],\n",
       "       [5.5, 2.3, 4.0, 1.3, 'versicolor'],\n",
       "       [6.5, 2.8, 4.6, 1.5, 'versicolor'],\n",
       "       [5.7, 2.8, 4.5, 1.3, 'versicolor'],\n",
       "       [6.3, 3.3, 4.7, 1.6, 'versicolor'],\n",
       "       [4.9, 2.4, 3.3, 1.0, 'versicolor'],\n",
       "       [6.6, 2.9, 4.6, 1.3, 'versicolor'],\n",
       "       [5.2, 2.7, 3.9, 1.4, 'versicolor'],\n",
       "       [5.0, 2.0, 3.5, 1.0, 'versicolor'],\n",
       "       [5.9, 3.0, 4.2, 1.5, 'versicolor'],\n",
       "       [6.0, 2.2, 4.0, 1.0, 'versicolor'],\n",
       "       [6.1, 2.9, 4.7, 1.4, 'versicolor'],\n",
       "       [5.6, 2.9, 3.6, 1.3, 'versicolor'],\n",
       "       [6.7, 3.1, 4.4, 1.4, 'versicolor'],\n",
       "       [5.6, 3.0, 4.5, 1.5, 'versicolor'],\n",
       "       [5.8, 2.7, 4.1, 1.0, 'versicolor'],\n",
       "       [6.2, 2.2, 4.5, 1.5, 'versicolor'],\n",
       "       [5.6, 2.5, 3.9, 1.1, 'versicolor'],\n",
       "       [5.9, 3.2, 4.8, 1.8, 'versicolor'],\n",
       "       [6.1, 2.8, 4.0, 1.3, 'versicolor'],\n",
       "       [6.3, 2.5, 4.9, 1.5, 'versicolor'],\n",
       "       [6.1, 2.8, 4.7, 1.2, 'versicolor'],\n",
       "       [6.4, 2.9, 4.3, 1.3, 'versicolor'],\n",
       "       [6.6, 3.0, 4.4, 1.4, 'versicolor'],\n",
       "       [6.8, 2.8, 4.8, 1.4, 'versicolor'],\n",
       "       [6.7, 3.0, 5.0, 1.7, 'versicolor'],\n",
       "       [6.0, 2.9, 4.5, 1.5, 'versicolor'],\n",
       "       [5.7, 2.6, 3.5, 1.0, 'versicolor'],\n",
       "       [5.5, 2.4, 3.8, 1.1, 'versicolor'],\n",
       "       [5.5, 2.4, 3.7, 1.0, 'versicolor'],\n",
       "       [5.8, 2.7, 3.9, 1.2, 'versicolor'],\n",
       "       [6.0, 2.7, 5.1, 1.6, 'versicolor'],\n",
       "       [5.4, 3.0, 4.5, 1.5, 'versicolor'],\n",
       "       [6.0, 3.4, 4.5, 1.6, 'versicolor'],\n",
       "       [6.7, 3.1, 4.7, 1.5, 'versicolor'],\n",
       "       [6.3, 2.3, 4.4, 1.3, 'versicolor'],\n",
       "       [5.6, 3.0, 4.1, 1.3, 'versicolor'],\n",
       "       [5.5, 2.5, 4.0, 1.3, 'versicolor'],\n",
       "       [5.5, 2.6, 4.4, 1.2, 'versicolor'],\n",
       "       [6.1, 3.0, 4.6, 1.4, 'versicolor'],\n",
       "       [5.8, 2.6, 4.0, 1.2, 'versicolor'],\n",
       "       [5.0, 2.3, 3.3, 1.0, 'versicolor'],\n",
       "       [5.6, 2.7, 4.2, 1.3, 'versicolor'],\n",
       "       [5.7, 3.0, 4.2, 1.2, 'versicolor'],\n",
       "       [5.7, 2.9, 4.2, 1.3, 'versicolor'],\n",
       "       [6.2, 2.9, 4.3, 1.3, 'versicolor'],\n",
       "       [5.1, 2.5, 3.0, 1.1, 'versicolor'],\n",
       "       [5.7, 2.8, 4.1, 1.3, 'versicolor'],\n",
       "       [6.3, 3.3, 6.0, 2.5, 'virginica'],\n",
       "       [5.8, 2.7, 5.1, 1.9, 'virginica'],\n",
       "       [7.1, 3.0, 5.9, 2.1, 'virginica'],\n",
       "       [6.3, 2.9, 5.6, 1.8, 'virginica'],\n",
       "       [6.5, 3.0, 5.8, 2.2, 'virginica'],\n",
       "       [7.6, 3.0, 6.6, 2.1, 'virginica'],\n",
       "       [4.9, 2.5, 4.5, 1.7, 'virginica'],\n",
       "       [7.3, 2.9, 6.3, 1.8, 'virginica'],\n",
       "       [6.7, 2.5, 5.8, 1.8, 'virginica'],\n",
       "       [7.2, 3.6, 6.1, 2.5, 'virginica'],\n",
       "       [6.5, 3.2, 5.1, 2.0, 'virginica'],\n",
       "       [6.4, 2.7, 5.3, 1.9, 'virginica'],\n",
       "       [6.8, 3.0, 5.5, 2.1, 'virginica'],\n",
       "       [5.7, 2.5, 5.0, 2.0, 'virginica'],\n",
       "       [5.8, 2.8, 5.1, 2.4, 'virginica'],\n",
       "       [6.4, 3.2, 5.3, 2.3, 'virginica'],\n",
       "       [6.5, 3.0, 5.5, 1.8, 'virginica'],\n",
       "       [7.7, 3.8, 6.7, 2.2, 'virginica'],\n",
       "       [7.7, 2.6, 6.9, 2.3, 'virginica'],\n",
       "       [6.0, 2.2, 5.0, 1.5, 'virginica'],\n",
       "       [6.9, 3.2, 5.7, 2.3, 'virginica'],\n",
       "       [5.6, 2.8, 4.9, 2.0, 'virginica'],\n",
       "       [7.7, 2.8, 6.7, 2.0, 'virginica'],\n",
       "       [6.3, 2.7, 4.9, 1.8, 'virginica'],\n",
       "       [6.7, 3.3, 5.7, 2.1, 'virginica'],\n",
       "       [7.2, 3.2, 6.0, 1.8, 'virginica'],\n",
       "       [6.2, 2.8, 4.8, 1.8, 'virginica'],\n",
       "       [6.1, 3.0, 4.9, 1.8, 'virginica'],\n",
       "       [6.4, 2.8, 5.6, 2.1, 'virginica'],\n",
       "       [7.2, 3.0, 5.8, 1.6, 'virginica'],\n",
       "       [7.4, 2.8, 6.1, 1.9, 'virginica'],\n",
       "       [7.9, 3.8, 6.4, 2.0, 'virginica'],\n",
       "       [6.4, 2.8, 5.6, 2.2, 'virginica'],\n",
       "       [6.3, 2.8, 5.1, 1.5, 'virginica'],\n",
       "       [6.1, 2.6, 5.6, 1.4, 'virginica'],\n",
       "       [7.7, 3.0, 6.1, 2.3, 'virginica'],\n",
       "       [6.3, 3.4, 5.6, 2.4, 'virginica'],\n",
       "       [6.4, 3.1, 5.5, 1.8, 'virginica'],\n",
       "       [6.0, 3.0, 4.8, 1.8, 'virginica'],\n",
       "       [6.9, 3.1, 5.4, 2.1, 'virginica'],\n",
       "       [6.7, 3.1, 5.6, 2.4, 'virginica'],\n",
       "       [6.9, 3.1, 5.1, 2.3, 'virginica'],\n",
       "       [5.8, 2.7, 5.1, 1.9, 'virginica'],\n",
       "       [6.8, 3.2, 5.9, 2.3, 'virginica'],\n",
       "       [6.7, 3.3, 5.7, 2.5, 'virginica'],\n",
       "       [6.7, 3.0, 5.2, 2.3, 'virginica'],\n",
       "       [6.3, 2.5, 5.0, 1.9, 'virginica'],\n",
       "       [6.5, 3.0, 5.2, 2.0, 'virginica'],\n",
       "       [6.2, 3.4, 5.4, 2.3, 'virginica'],\n",
       "       [5.9, 3.0, 5.1, 1.8, 'virginica']], dtype=object)"
      ]
     },
     "execution_count": 76,
     "metadata": {},
     "output_type": "execute_result"
    }
   ],
   "source": [
    "df.values"
   ]
  },
  {
   "cell_type": "code",
   "execution_count": 77,
   "id": "8b239bfb",
   "metadata": {
    "id": "BfvT9t9Com82"
   },
   "outputs": [
    {
     "data": {
      "text/plain": [
       "(150, 5)"
      ]
     },
     "execution_count": 77,
     "metadata": {},
     "output_type": "execute_result"
    }
   ],
   "source": [
    "df.values.shape"
   ]
  },
  {
   "cell_type": "code",
   "execution_count": 78,
   "id": "2c62ea03",
   "metadata": {
    "id": "NCk8xDsYom6q"
   },
   "outputs": [
    {
     "data": {
      "text/plain": [
       "dtype('O')"
      ]
     },
     "execution_count": 78,
     "metadata": {},
     "output_type": "execute_result"
    }
   ],
   "source": [
    "df.values.dtype"
   ]
  },
  {
   "cell_type": "code",
   "execution_count": 79,
   "id": "4171b14c",
   "metadata": {
    "id": "ZYpd0udYom4i"
   },
   "outputs": [
    {
     "data": {
      "text/plain": [
       "array([[5.1, 3.5],\n",
       "       [4.9, 3. ],\n",
       "       [4.7, 3.2],\n",
       "       [4.6, 3.1],\n",
       "       [5. , 3.6],\n",
       "       [5.4, 3.9],\n",
       "       [4.6, 3.4],\n",
       "       [5. , 3.4],\n",
       "       [4.4, 2.9],\n",
       "       [4.9, 3.1],\n",
       "       [5.4, 3.7],\n",
       "       [4.8, 3.4],\n",
       "       [4.8, 3. ],\n",
       "       [4.3, 3. ],\n",
       "       [5.8, 4. ],\n",
       "       [5.7, 4.4],\n",
       "       [5.4, 3.9],\n",
       "       [5.1, 3.5],\n",
       "       [5.7, 3.8],\n",
       "       [5.1, 3.8],\n",
       "       [5.4, 3.4],\n",
       "       [5.1, 3.7],\n",
       "       [4.6, 3.6],\n",
       "       [5.1, 3.3],\n",
       "       [4.8, 3.4],\n",
       "       [5. , 3. ],\n",
       "       [5. , 3.4],\n",
       "       [5.2, 3.5],\n",
       "       [5.2, 3.4],\n",
       "       [4.7, 3.2],\n",
       "       [4.8, 3.1],\n",
       "       [5.4, 3.4],\n",
       "       [5.2, 4.1],\n",
       "       [5.5, 4.2],\n",
       "       [4.9, 3.1],\n",
       "       [5. , 3.2],\n",
       "       [5.5, 3.5],\n",
       "       [4.9, 3.1],\n",
       "       [4.4, 3. ],\n",
       "       [5.1, 3.4],\n",
       "       [5. , 3.5],\n",
       "       [4.5, 2.3],\n",
       "       [4.4, 3.2],\n",
       "       [5. , 3.5],\n",
       "       [5.1, 3.8],\n",
       "       [4.8, 3. ],\n",
       "       [5.1, 3.8],\n",
       "       [4.6, 3.2],\n",
       "       [5.3, 3.7],\n",
       "       [5. , 3.3],\n",
       "       [7. , 3.2],\n",
       "       [6.4, 3.2],\n",
       "       [6.9, 3.1],\n",
       "       [5.5, 2.3],\n",
       "       [6.5, 2.8],\n",
       "       [5.7, 2.8],\n",
       "       [6.3, 3.3],\n",
       "       [4.9, 2.4],\n",
       "       [6.6, 2.9],\n",
       "       [5.2, 2.7],\n",
       "       [5. , 2. ],\n",
       "       [5.9, 3. ],\n",
       "       [6. , 2.2],\n",
       "       [6.1, 2.9],\n",
       "       [5.6, 2.9],\n",
       "       [6.7, 3.1],\n",
       "       [5.6, 3. ],\n",
       "       [5.8, 2.7],\n",
       "       [6.2, 2.2],\n",
       "       [5.6, 2.5],\n",
       "       [5.9, 3.2],\n",
       "       [6.1, 2.8],\n",
       "       [6.3, 2.5],\n",
       "       [6.1, 2.8],\n",
       "       [6.4, 2.9],\n",
       "       [6.6, 3. ],\n",
       "       [6.8, 2.8],\n",
       "       [6.7, 3. ],\n",
       "       [6. , 2.9],\n",
       "       [5.7, 2.6],\n",
       "       [5.5, 2.4],\n",
       "       [5.5, 2.4],\n",
       "       [5.8, 2.7],\n",
       "       [6. , 2.7],\n",
       "       [5.4, 3. ],\n",
       "       [6. , 3.4],\n",
       "       [6.7, 3.1],\n",
       "       [6.3, 2.3],\n",
       "       [5.6, 3. ],\n",
       "       [5.5, 2.5],\n",
       "       [5.5, 2.6],\n",
       "       [6.1, 3. ],\n",
       "       [5.8, 2.6],\n",
       "       [5. , 2.3],\n",
       "       [5.6, 2.7],\n",
       "       [5.7, 3. ],\n",
       "       [5.7, 2.9],\n",
       "       [6.2, 2.9],\n",
       "       [5.1, 2.5],\n",
       "       [5.7, 2.8],\n",
       "       [6.3, 3.3],\n",
       "       [5.8, 2.7],\n",
       "       [7.1, 3. ],\n",
       "       [6.3, 2.9],\n",
       "       [6.5, 3. ],\n",
       "       [7.6, 3. ],\n",
       "       [4.9, 2.5],\n",
       "       [7.3, 2.9],\n",
       "       [6.7, 2.5],\n",
       "       [7.2, 3.6],\n",
       "       [6.5, 3.2],\n",
       "       [6.4, 2.7],\n",
       "       [6.8, 3. ],\n",
       "       [5.7, 2.5],\n",
       "       [5.8, 2.8],\n",
       "       [6.4, 3.2],\n",
       "       [6.5, 3. ],\n",
       "       [7.7, 3.8],\n",
       "       [7.7, 2.6],\n",
       "       [6. , 2.2],\n",
       "       [6.9, 3.2],\n",
       "       [5.6, 2.8],\n",
       "       [7.7, 2.8],\n",
       "       [6.3, 2.7],\n",
       "       [6.7, 3.3],\n",
       "       [7.2, 3.2],\n",
       "       [6.2, 2.8],\n",
       "       [6.1, 3. ],\n",
       "       [6.4, 2.8],\n",
       "       [7.2, 3. ],\n",
       "       [7.4, 2.8],\n",
       "       [7.9, 3.8],\n",
       "       [6.4, 2.8],\n",
       "       [6.3, 2.8],\n",
       "       [6.1, 2.6],\n",
       "       [7.7, 3. ],\n",
       "       [6.3, 3.4],\n",
       "       [6.4, 3.1],\n",
       "       [6. , 3. ],\n",
       "       [6.9, 3.1],\n",
       "       [6.7, 3.1],\n",
       "       [6.9, 3.1],\n",
       "       [5.8, 2.7],\n",
       "       [6.8, 3.2],\n",
       "       [6.7, 3.3],\n",
       "       [6.7, 3. ],\n",
       "       [6.3, 2.5],\n",
       "       [6.5, 3. ],\n",
       "       [6.2, 3.4],\n",
       "       [5.9, 3. ]])"
      ]
     },
     "execution_count": 79,
     "metadata": {},
     "output_type": "execute_result"
    }
   ],
   "source": [
    "df[[\"sepal_length\", \"sepal_width\"]].values"
   ]
  },
  {
   "cell_type": "code",
   "execution_count": 80,
   "id": "3fe6e578",
   "metadata": {
    "id": "cfc7bLa_om2a"
   },
   "outputs": [
    {
     "data": {
      "text/plain": [
       "dtype('float64')"
      ]
     },
     "execution_count": 80,
     "metadata": {},
     "output_type": "execute_result"
    }
   ],
   "source": [
    "df[[\"sepal_length\", \"sepal_width\"]].values.dtype"
   ]
  },
  {
   "cell_type": "code",
   "execution_count": 81,
   "id": "c2dafb42",
   "metadata": {
    "id": "eTyBSS6Zom0K"
   },
   "outputs": [],
   "source": [
    "df[\"lin\"] = np.linspace(1, 10, 150)"
   ]
  },
  {
   "cell_type": "code",
   "execution_count": 82,
   "id": "b2a2a1eb",
   "metadata": {
    "id": "8GcXszLmomx2"
   },
   "outputs": [
    {
     "data": {
      "text/html": [
       "<div>\n",
       "<style scoped>\n",
       "    .dataframe tbody tr th:only-of-type {\n",
       "        vertical-align: middle;\n",
       "    }\n",
       "\n",
       "    .dataframe tbody tr th {\n",
       "        vertical-align: top;\n",
       "    }\n",
       "\n",
       "    .dataframe thead th {\n",
       "        text-align: right;\n",
       "    }\n",
       "</style>\n",
       "<table border=\"1\" class=\"dataframe\">\n",
       "  <thead>\n",
       "    <tr style=\"text-align: right;\">\n",
       "      <th></th>\n",
       "      <th>sepal_length</th>\n",
       "      <th>sepal_width</th>\n",
       "      <th>petal_length</th>\n",
       "      <th>petal_width</th>\n",
       "      <th>class</th>\n",
       "      <th>lin</th>\n",
       "    </tr>\n",
       "  </thead>\n",
       "  <tbody>\n",
       "    <tr>\n",
       "      <th>0</th>\n",
       "      <td>5.1</td>\n",
       "      <td>3.5</td>\n",
       "      <td>1.4</td>\n",
       "      <td>0.2</td>\n",
       "      <td>setosa</td>\n",
       "      <td>1.000000</td>\n",
       "    </tr>\n",
       "    <tr>\n",
       "      <th>1</th>\n",
       "      <td>4.9</td>\n",
       "      <td>3.0</td>\n",
       "      <td>1.4</td>\n",
       "      <td>0.2</td>\n",
       "      <td>setosa</td>\n",
       "      <td>1.060403</td>\n",
       "    </tr>\n",
       "    <tr>\n",
       "      <th>2</th>\n",
       "      <td>4.7</td>\n",
       "      <td>3.2</td>\n",
       "      <td>1.3</td>\n",
       "      <td>0.2</td>\n",
       "      <td>setosa</td>\n",
       "      <td>1.120805</td>\n",
       "    </tr>\n",
       "    <tr>\n",
       "      <th>3</th>\n",
       "      <td>4.6</td>\n",
       "      <td>3.1</td>\n",
       "      <td>1.5</td>\n",
       "      <td>0.2</td>\n",
       "      <td>setosa</td>\n",
       "      <td>1.181208</td>\n",
       "    </tr>\n",
       "    <tr>\n",
       "      <th>4</th>\n",
       "      <td>5.0</td>\n",
       "      <td>3.6</td>\n",
       "      <td>1.4</td>\n",
       "      <td>0.2</td>\n",
       "      <td>setosa</td>\n",
       "      <td>1.241611</td>\n",
       "    </tr>\n",
       "  </tbody>\n",
       "</table>\n",
       "</div>"
      ],
      "text/plain": [
       "   sepal_length  sepal_width  petal_length  petal_width   class       lin\n",
       "0           5.1          3.5           1.4          0.2  setosa  1.000000\n",
       "1           4.9          3.0           1.4          0.2  setosa  1.060403\n",
       "2           4.7          3.2           1.3          0.2  setosa  1.120805\n",
       "3           4.6          3.1           1.5          0.2  setosa  1.181208\n",
       "4           5.0          3.6           1.4          0.2  setosa  1.241611"
      ]
     },
     "execution_count": 82,
     "metadata": {},
     "output_type": "execute_result"
    }
   ],
   "source": [
    "df.head()"
   ]
  },
  {
   "cell_type": "code",
   "execution_count": 83,
   "id": "0dcaf72b",
   "metadata": {
    "id": "WCv8ABVYo78q"
   },
   "outputs": [],
   "source": [
    "df.drop(columns=\"lin\", inplace=True)"
   ]
  },
  {
   "cell_type": "code",
   "execution_count": 84,
   "id": "b0a08004",
   "metadata": {
    "id": "HlGLd20zo7sD"
   },
   "outputs": [
    {
     "data": {
      "text/plain": [
       "array([[1., 1., 1., 1., 1.],\n",
       "       [1., 1., 1., 1., 1.],\n",
       "       [1., 1., 1., 1., 1.],\n",
       "       [1., 1., 1., 1., 1.]])"
      ]
     },
     "execution_count": 84,
     "metadata": {},
     "output_type": "execute_result"
    }
   ],
   "source": [
    "np.ones((4, 5))"
   ]
  },
  {
   "cell_type": "code",
   "execution_count": 85,
   "id": "4c5ee07c",
   "metadata": {
    "id": "rMkm0b-QpAJX"
   },
   "outputs": [
    {
     "data": {
      "text/html": [
       "<div>\n",
       "<style scoped>\n",
       "    .dataframe tbody tr th:only-of-type {\n",
       "        vertical-align: middle;\n",
       "    }\n",
       "\n",
       "    .dataframe tbody tr th {\n",
       "        vertical-align: top;\n",
       "    }\n",
       "\n",
       "    .dataframe thead th {\n",
       "        text-align: right;\n",
       "    }\n",
       "</style>\n",
       "<table border=\"1\" class=\"dataframe\">\n",
       "  <thead>\n",
       "    <tr style=\"text-align: right;\">\n",
       "      <th></th>\n",
       "      <th>0</th>\n",
       "      <th>1</th>\n",
       "      <th>2</th>\n",
       "      <th>3</th>\n",
       "      <th>4</th>\n",
       "    </tr>\n",
       "  </thead>\n",
       "  <tbody>\n",
       "    <tr>\n",
       "      <th>0</th>\n",
       "      <td>1.0</td>\n",
       "      <td>1.0</td>\n",
       "      <td>1.0</td>\n",
       "      <td>1.0</td>\n",
       "      <td>1.0</td>\n",
       "    </tr>\n",
       "    <tr>\n",
       "      <th>1</th>\n",
       "      <td>1.0</td>\n",
       "      <td>1.0</td>\n",
       "      <td>1.0</td>\n",
       "      <td>1.0</td>\n",
       "      <td>1.0</td>\n",
       "    </tr>\n",
       "    <tr>\n",
       "      <th>2</th>\n",
       "      <td>1.0</td>\n",
       "      <td>1.0</td>\n",
       "      <td>1.0</td>\n",
       "      <td>1.0</td>\n",
       "      <td>1.0</td>\n",
       "    </tr>\n",
       "    <tr>\n",
       "      <th>3</th>\n",
       "      <td>1.0</td>\n",
       "      <td>1.0</td>\n",
       "      <td>1.0</td>\n",
       "      <td>1.0</td>\n",
       "      <td>1.0</td>\n",
       "    </tr>\n",
       "  </tbody>\n",
       "</table>\n",
       "</div>"
      ],
      "text/plain": [
       "     0    1    2    3    4\n",
       "0  1.0  1.0  1.0  1.0  1.0\n",
       "1  1.0  1.0  1.0  1.0  1.0\n",
       "2  1.0  1.0  1.0  1.0  1.0\n",
       "3  1.0  1.0  1.0  1.0  1.0"
      ]
     },
     "execution_count": 85,
     "metadata": {},
     "output_type": "execute_result"
    }
   ],
   "source": [
    "pd.DataFrame(np.ones((4, 5)))"
   ]
  },
  {
   "cell_type": "code",
   "execution_count": 86,
   "id": "26b79c94",
   "metadata": {
    "id": "EnCqLeEFmwWu"
   },
   "outputs": [
    {
     "data": {
      "text/html": [
       "<div>\n",
       "<style scoped>\n",
       "    .dataframe tbody tr th:only-of-type {\n",
       "        vertical-align: middle;\n",
       "    }\n",
       "\n",
       "    .dataframe tbody tr th {\n",
       "        vertical-align: top;\n",
       "    }\n",
       "\n",
       "    .dataframe thead th {\n",
       "        text-align: right;\n",
       "    }\n",
       "</style>\n",
       "<table border=\"1\" class=\"dataframe\">\n",
       "  <thead>\n",
       "    <tr style=\"text-align: right;\">\n",
       "      <th></th>\n",
       "      <th>a</th>\n",
       "      <th>b</th>\n",
       "      <th>c</th>\n",
       "      <th>d</th>\n",
       "      <th>e</th>\n",
       "    </tr>\n",
       "  </thead>\n",
       "  <tbody>\n",
       "    <tr>\n",
       "      <th>0</th>\n",
       "      <td>1.0</td>\n",
       "      <td>1.0</td>\n",
       "      <td>1.0</td>\n",
       "      <td>1.0</td>\n",
       "      <td>1.0</td>\n",
       "    </tr>\n",
       "    <tr>\n",
       "      <th>1</th>\n",
       "      <td>1.0</td>\n",
       "      <td>1.0</td>\n",
       "      <td>1.0</td>\n",
       "      <td>1.0</td>\n",
       "      <td>1.0</td>\n",
       "    </tr>\n",
       "    <tr>\n",
       "      <th>2</th>\n",
       "      <td>1.0</td>\n",
       "      <td>1.0</td>\n",
       "      <td>1.0</td>\n",
       "      <td>1.0</td>\n",
       "      <td>1.0</td>\n",
       "    </tr>\n",
       "    <tr>\n",
       "      <th>3</th>\n",
       "      <td>1.0</td>\n",
       "      <td>1.0</td>\n",
       "      <td>1.0</td>\n",
       "      <td>1.0</td>\n",
       "      <td>1.0</td>\n",
       "    </tr>\n",
       "  </tbody>\n",
       "</table>\n",
       "</div>"
      ],
      "text/plain": [
       "     a    b    c    d    e\n",
       "0  1.0  1.0  1.0  1.0  1.0\n",
       "1  1.0  1.0  1.0  1.0  1.0\n",
       "2  1.0  1.0  1.0  1.0  1.0\n",
       "3  1.0  1.0  1.0  1.0  1.0"
      ]
     },
     "execution_count": 86,
     "metadata": {},
     "output_type": "execute_result"
    }
   ],
   "source": [
    "pd.DataFrame(np.ones((4, 5)), columns=[\"a\", \"b\", \"c\", \"d\", \"e\"])"
   ]
  },
  {
   "cell_type": "markdown",
   "id": "f2fb44b8",
   "metadata": {
    "id": "sko_b-4qn22e"
   },
   "source": [
    "### grupowanie"
   ]
  },
  {
   "cell_type": "code",
   "execution_count": 87,
   "id": "8e37555e",
   "metadata": {
    "id": "I1sXeTBbpEtb"
   },
   "outputs": [
    {
     "data": {
      "text/html": [
       "<div>\n",
       "<style scoped>\n",
       "    .dataframe tbody tr th:only-of-type {\n",
       "        vertical-align: middle;\n",
       "    }\n",
       "\n",
       "    .dataframe tbody tr th {\n",
       "        vertical-align: top;\n",
       "    }\n",
       "\n",
       "    .dataframe thead th {\n",
       "        text-align: right;\n",
       "    }\n",
       "</style>\n",
       "<table border=\"1\" class=\"dataframe\">\n",
       "  <thead>\n",
       "    <tr style=\"text-align: right;\">\n",
       "      <th></th>\n",
       "      <th>sepal_length</th>\n",
       "      <th>sepal_width</th>\n",
       "      <th>petal_length</th>\n",
       "      <th>petal_width</th>\n",
       "    </tr>\n",
       "    <tr>\n",
       "      <th>class</th>\n",
       "      <th></th>\n",
       "      <th></th>\n",
       "      <th></th>\n",
       "      <th></th>\n",
       "    </tr>\n",
       "  </thead>\n",
       "  <tbody>\n",
       "    <tr>\n",
       "      <th>setosa</th>\n",
       "      <td>5.006</td>\n",
       "      <td>3.418</td>\n",
       "      <td>1.464</td>\n",
       "      <td>0.244</td>\n",
       "    </tr>\n",
       "    <tr>\n",
       "      <th>versicolor</th>\n",
       "      <td>5.936</td>\n",
       "      <td>2.770</td>\n",
       "      <td>4.260</td>\n",
       "      <td>1.326</td>\n",
       "    </tr>\n",
       "    <tr>\n",
       "      <th>virginica</th>\n",
       "      <td>6.588</td>\n",
       "      <td>2.974</td>\n",
       "      <td>5.552</td>\n",
       "      <td>2.026</td>\n",
       "    </tr>\n",
       "  </tbody>\n",
       "</table>\n",
       "</div>"
      ],
      "text/plain": [
       "            sepal_length  sepal_width  petal_length  petal_width\n",
       "class                                                           \n",
       "setosa             5.006        3.418         1.464        0.244\n",
       "versicolor         5.936        2.770         4.260        1.326\n",
       "virginica          6.588        2.974         5.552        2.026"
      ]
     },
     "execution_count": 87,
     "metadata": {},
     "output_type": "execute_result"
    }
   ],
   "source": [
    "df.groupby(\"class\").mean()"
   ]
  },
  {
   "cell_type": "code",
   "execution_count": 88,
   "id": "b0aeb134",
   "metadata": {
    "id": "hULw0TiypEkb"
   },
   "outputs": [
    {
     "data": {
      "text/plain": [
       "class\n",
       "setosa        5.006\n",
       "versicolor    5.936\n",
       "virginica     6.588\n",
       "Name: sepal_length, dtype: float64"
      ]
     },
     "execution_count": 88,
     "metadata": {},
     "output_type": "execute_result"
    }
   ],
   "source": [
    "df.groupby(\"class\")[\"sepal_length\"].mean()"
   ]
  },
  {
   "cell_type": "code",
   "execution_count": 89,
   "id": "e4e929ff",
   "metadata": {
    "id": "k_YPGvMhpEZf"
   },
   "outputs": [
    {
     "data": {
      "text/html": [
       "<div>\n",
       "<style scoped>\n",
       "    .dataframe tbody tr th:only-of-type {\n",
       "        vertical-align: middle;\n",
       "    }\n",
       "\n",
       "    .dataframe tbody tr th {\n",
       "        vertical-align: top;\n",
       "    }\n",
       "\n",
       "    .dataframe thead th {\n",
       "        text-align: right;\n",
       "    }\n",
       "</style>\n",
       "<table border=\"1\" class=\"dataframe\">\n",
       "  <thead>\n",
       "    <tr style=\"text-align: right;\">\n",
       "      <th></th>\n",
       "      <th>sepal_length</th>\n",
       "      <th>sepal_width</th>\n",
       "      <th>petal_length</th>\n",
       "      <th>petal_width</th>\n",
       "    </tr>\n",
       "    <tr>\n",
       "      <th>class</th>\n",
       "      <th></th>\n",
       "      <th></th>\n",
       "      <th></th>\n",
       "      <th></th>\n",
       "    </tr>\n",
       "  </thead>\n",
       "  <tbody>\n",
       "    <tr>\n",
       "      <th>setosa</th>\n",
       "      <td>50</td>\n",
       "      <td>50</td>\n",
       "      <td>50</td>\n",
       "      <td>50</td>\n",
       "    </tr>\n",
       "    <tr>\n",
       "      <th>versicolor</th>\n",
       "      <td>50</td>\n",
       "      <td>50</td>\n",
       "      <td>50</td>\n",
       "      <td>50</td>\n",
       "    </tr>\n",
       "    <tr>\n",
       "      <th>virginica</th>\n",
       "      <td>50</td>\n",
       "      <td>50</td>\n",
       "      <td>50</td>\n",
       "      <td>50</td>\n",
       "    </tr>\n",
       "  </tbody>\n",
       "</table>\n",
       "</div>"
      ],
      "text/plain": [
       "            sepal_length  sepal_width  petal_length  petal_width\n",
       "class                                                           \n",
       "setosa                50           50            50           50\n",
       "versicolor            50           50            50           50\n",
       "virginica             50           50            50           50"
      ]
     },
     "execution_count": 89,
     "metadata": {},
     "output_type": "execute_result"
    }
   ],
   "source": [
    "df.groupby(\"class\").count()"
   ]
  },
  {
   "cell_type": "code",
   "execution_count": 90,
   "id": "e246027f",
   "metadata": {
    "id": "w_QDhlten5TQ"
   },
   "outputs": [
    {
     "data": {
      "text/plain": [
       "class\n",
       "setosa        50\n",
       "versicolor    50\n",
       "virginica     50\n",
       "Name: class, dtype: int64"
      ]
     },
     "execution_count": 90,
     "metadata": {},
     "output_type": "execute_result"
    }
   ],
   "source": [
    "df.groupby(\"class\")[\"class\"].count()"
   ]
  },
  {
   "cell_type": "markdown",
   "id": "bfc8ffed",
   "metadata": {
    "id": "jTQSSDzLn2rW"
   },
   "source": [
    "### apply"
   ]
  },
  {
   "cell_type": "code",
   "execution_count": 91,
   "id": "d0860dd6",
   "metadata": {
    "id": "wOl7gCJYpPFF"
   },
   "outputs": [
    {
     "data": {
      "text/plain": [
       "0         SETOSA\n",
       "1         SETOSA\n",
       "2         SETOSA\n",
       "3         SETOSA\n",
       "4         SETOSA\n",
       "         ...    \n",
       "145    VIRGINICA\n",
       "146    VIRGINICA\n",
       "147    VIRGINICA\n",
       "148    VIRGINICA\n",
       "149    VIRGINICA\n",
       "Name: class, Length: 150, dtype: object"
      ]
     },
     "execution_count": 91,
     "metadata": {},
     "output_type": "execute_result"
    }
   ],
   "source": [
    "df[\"class\"].apply(lambda x: x.upper())"
   ]
  },
  {
   "cell_type": "code",
   "execution_count": 92,
   "id": "44e03f5e",
   "metadata": {
    "id": "QhCYB1AUpOzT"
   },
   "outputs": [
    {
     "data": {
      "text/plain": [
       "0         SETOSA\n",
       "1         SETOSA\n",
       "2         SETOSA\n",
       "3         SETOSA\n",
       "4         SETOSA\n",
       "         ...    \n",
       "145    VIRGINICA\n",
       "146    VIRGINICA\n",
       "147    VIRGINICA\n",
       "148    VIRGINICA\n",
       "149    VIRGINICA\n",
       "Name: class, Length: 150, dtype: object"
      ]
     },
     "execution_count": 92,
     "metadata": {},
     "output_type": "execute_result"
    }
   ],
   "source": [
    "df[\"class\"].str.upper()"
   ]
  },
  {
   "cell_type": "code",
   "execution_count": 93,
   "id": "fa90929d",
   "metadata": {
    "id": "LUE67bQtn9cQ"
   },
   "outputs": [
    {
     "data": {
      "text/plain": [
       "0      655\n",
       "1      655\n",
       "2      655\n",
       "3      655\n",
       "4      655\n",
       "      ... \n",
       "145    956\n",
       "146    956\n",
       "147    956\n",
       "148    956\n",
       "149    956\n",
       "Name: class, Length: 150, dtype: int64"
      ]
     },
     "execution_count": 93,
     "metadata": {},
     "output_type": "execute_result"
    }
   ],
   "source": [
    "df[\"class\"].apply(lambda x: sum([ord(y) for y in x]))"
   ]
  },
  {
   "cell_type": "markdown",
   "id": "33fba2e4",
   "metadata": {
    "id": "AB4DcVK913rw"
   },
   "source": [
    "### filtrowanie"
   ]
  },
  {
   "cell_type": "code",
   "execution_count": 94,
   "id": "0daa8323",
   "metadata": {
    "id": "E5_hz86k15eo"
   },
   "outputs": [
    {
     "data": {
      "text/html": [
       "<div>\n",
       "<style scoped>\n",
       "    .dataframe tbody tr th:only-of-type {\n",
       "        vertical-align: middle;\n",
       "    }\n",
       "\n",
       "    .dataframe tbody tr th {\n",
       "        vertical-align: top;\n",
       "    }\n",
       "\n",
       "    .dataframe thead th {\n",
       "        text-align: right;\n",
       "    }\n",
       "</style>\n",
       "<table border=\"1\" class=\"dataframe\">\n",
       "  <thead>\n",
       "    <tr style=\"text-align: right;\">\n",
       "      <th></th>\n",
       "      <th>sepal_length</th>\n",
       "      <th>sepal_width</th>\n",
       "    </tr>\n",
       "  </thead>\n",
       "  <tbody>\n",
       "    <tr>\n",
       "      <th>0</th>\n",
       "      <td>5.1</td>\n",
       "      <td>3.5</td>\n",
       "    </tr>\n",
       "    <tr>\n",
       "      <th>1</th>\n",
       "      <td>4.9</td>\n",
       "      <td>3.0</td>\n",
       "    </tr>\n",
       "    <tr>\n",
       "      <th>2</th>\n",
       "      <td>4.7</td>\n",
       "      <td>3.2</td>\n",
       "    </tr>\n",
       "    <tr>\n",
       "      <th>3</th>\n",
       "      <td>4.6</td>\n",
       "      <td>3.1</td>\n",
       "    </tr>\n",
       "    <tr>\n",
       "      <th>4</th>\n",
       "      <td>5.0</td>\n",
       "      <td>3.6</td>\n",
       "    </tr>\n",
       "    <tr>\n",
       "      <th>...</th>\n",
       "      <td>...</td>\n",
       "      <td>...</td>\n",
       "    </tr>\n",
       "    <tr>\n",
       "      <th>145</th>\n",
       "      <td>6.7</td>\n",
       "      <td>3.0</td>\n",
       "    </tr>\n",
       "    <tr>\n",
       "      <th>146</th>\n",
       "      <td>6.3</td>\n",
       "      <td>2.5</td>\n",
       "    </tr>\n",
       "    <tr>\n",
       "      <th>147</th>\n",
       "      <td>6.5</td>\n",
       "      <td>3.0</td>\n",
       "    </tr>\n",
       "    <tr>\n",
       "      <th>148</th>\n",
       "      <td>6.2</td>\n",
       "      <td>3.4</td>\n",
       "    </tr>\n",
       "    <tr>\n",
       "      <th>149</th>\n",
       "      <td>5.9</td>\n",
       "      <td>3.0</td>\n",
       "    </tr>\n",
       "  </tbody>\n",
       "</table>\n",
       "<p>150 rows × 2 columns</p>\n",
       "</div>"
      ],
      "text/plain": [
       "     sepal_length  sepal_width\n",
       "0             5.1          3.5\n",
       "1             4.9          3.0\n",
       "2             4.7          3.2\n",
       "3             4.6          3.1\n",
       "4             5.0          3.6\n",
       "..            ...          ...\n",
       "145           6.7          3.0\n",
       "146           6.3          2.5\n",
       "147           6.5          3.0\n",
       "148           6.2          3.4\n",
       "149           5.9          3.0\n",
       "\n",
       "[150 rows x 2 columns]"
      ]
     },
     "execution_count": 94,
     "metadata": {},
     "output_type": "execute_result"
    }
   ],
   "source": [
    "df[[\"sepal_length\", \"sepal_width\"]]"
   ]
  },
  {
   "cell_type": "code",
   "execution_count": 95,
   "id": "7e078432",
   "metadata": {
    "id": "wwRTt6pP2RF2"
   },
   "outputs": [
    {
     "data": {
      "text/html": [
       "<div>\n",
       "<style scoped>\n",
       "    .dataframe tbody tr th:only-of-type {\n",
       "        vertical-align: middle;\n",
       "    }\n",
       "\n",
       "    .dataframe tbody tr th {\n",
       "        vertical-align: top;\n",
       "    }\n",
       "\n",
       "    .dataframe thead th {\n",
       "        text-align: right;\n",
       "    }\n",
       "</style>\n",
       "<table border=\"1\" class=\"dataframe\">\n",
       "  <thead>\n",
       "    <tr style=\"text-align: right;\">\n",
       "      <th></th>\n",
       "      <th>sepal_length</th>\n",
       "      <th>sepal_width</th>\n",
       "      <th>petal_length</th>\n",
       "      <th>petal_width</th>\n",
       "      <th>class</th>\n",
       "    </tr>\n",
       "  </thead>\n",
       "  <tbody>\n",
       "    <tr>\n",
       "      <th>0</th>\n",
       "      <td>5.1</td>\n",
       "      <td>3.5</td>\n",
       "      <td>1.4</td>\n",
       "      <td>0.2</td>\n",
       "      <td>setosa</td>\n",
       "    </tr>\n",
       "    <tr>\n",
       "      <th>1</th>\n",
       "      <td>4.9</td>\n",
       "      <td>3.0</td>\n",
       "      <td>1.4</td>\n",
       "      <td>0.2</td>\n",
       "      <td>setosa</td>\n",
       "    </tr>\n",
       "    <tr>\n",
       "      <th>2</th>\n",
       "      <td>4.7</td>\n",
       "      <td>3.2</td>\n",
       "      <td>1.3</td>\n",
       "      <td>0.2</td>\n",
       "      <td>setosa</td>\n",
       "    </tr>\n",
       "    <tr>\n",
       "      <th>3</th>\n",
       "      <td>4.6</td>\n",
       "      <td>3.1</td>\n",
       "      <td>1.5</td>\n",
       "      <td>0.2</td>\n",
       "      <td>setosa</td>\n",
       "    </tr>\n",
       "    <tr>\n",
       "      <th>4</th>\n",
       "      <td>5.0</td>\n",
       "      <td>3.6</td>\n",
       "      <td>1.4</td>\n",
       "      <td>0.2</td>\n",
       "      <td>setosa</td>\n",
       "    </tr>\n",
       "    <tr>\n",
       "      <th>5</th>\n",
       "      <td>5.4</td>\n",
       "      <td>3.9</td>\n",
       "      <td>1.7</td>\n",
       "      <td>0.4</td>\n",
       "      <td>setosa</td>\n",
       "    </tr>\n",
       "    <tr>\n",
       "      <th>6</th>\n",
       "      <td>4.6</td>\n",
       "      <td>3.4</td>\n",
       "      <td>1.4</td>\n",
       "      <td>0.3</td>\n",
       "      <td>setosa</td>\n",
       "    </tr>\n",
       "    <tr>\n",
       "      <th>7</th>\n",
       "      <td>5.0</td>\n",
       "      <td>3.4</td>\n",
       "      <td>1.5</td>\n",
       "      <td>0.2</td>\n",
       "      <td>setosa</td>\n",
       "    </tr>\n",
       "    <tr>\n",
       "      <th>8</th>\n",
       "      <td>4.4</td>\n",
       "      <td>2.9</td>\n",
       "      <td>1.4</td>\n",
       "      <td>0.2</td>\n",
       "      <td>setosa</td>\n",
       "    </tr>\n",
       "    <tr>\n",
       "      <th>9</th>\n",
       "      <td>4.9</td>\n",
       "      <td>3.1</td>\n",
       "      <td>1.5</td>\n",
       "      <td>0.1</td>\n",
       "      <td>setosa</td>\n",
       "    </tr>\n",
       "    <tr>\n",
       "      <th>10</th>\n",
       "      <td>5.4</td>\n",
       "      <td>3.7</td>\n",
       "      <td>1.5</td>\n",
       "      <td>0.2</td>\n",
       "      <td>setosa</td>\n",
       "    </tr>\n",
       "    <tr>\n",
       "      <th>11</th>\n",
       "      <td>4.8</td>\n",
       "      <td>3.4</td>\n",
       "      <td>1.6</td>\n",
       "      <td>0.2</td>\n",
       "      <td>setosa</td>\n",
       "    </tr>\n",
       "    <tr>\n",
       "      <th>12</th>\n",
       "      <td>4.8</td>\n",
       "      <td>3.0</td>\n",
       "      <td>1.4</td>\n",
       "      <td>0.1</td>\n",
       "      <td>setosa</td>\n",
       "    </tr>\n",
       "    <tr>\n",
       "      <th>13</th>\n",
       "      <td>4.3</td>\n",
       "      <td>3.0</td>\n",
       "      <td>1.1</td>\n",
       "      <td>0.1</td>\n",
       "      <td>setosa</td>\n",
       "    </tr>\n",
       "    <tr>\n",
       "      <th>14</th>\n",
       "      <td>5.8</td>\n",
       "      <td>4.0</td>\n",
       "      <td>1.2</td>\n",
       "      <td>0.2</td>\n",
       "      <td>setosa</td>\n",
       "    </tr>\n",
       "    <tr>\n",
       "      <th>15</th>\n",
       "      <td>5.7</td>\n",
       "      <td>4.4</td>\n",
       "      <td>1.5</td>\n",
       "      <td>0.4</td>\n",
       "      <td>setosa</td>\n",
       "    </tr>\n",
       "    <tr>\n",
       "      <th>16</th>\n",
       "      <td>5.4</td>\n",
       "      <td>3.9</td>\n",
       "      <td>1.3</td>\n",
       "      <td>0.4</td>\n",
       "      <td>setosa</td>\n",
       "    </tr>\n",
       "    <tr>\n",
       "      <th>17</th>\n",
       "      <td>5.1</td>\n",
       "      <td>3.5</td>\n",
       "      <td>1.4</td>\n",
       "      <td>0.3</td>\n",
       "      <td>setosa</td>\n",
       "    </tr>\n",
       "    <tr>\n",
       "      <th>18</th>\n",
       "      <td>5.7</td>\n",
       "      <td>3.8</td>\n",
       "      <td>1.7</td>\n",
       "      <td>0.3</td>\n",
       "      <td>setosa</td>\n",
       "    </tr>\n",
       "    <tr>\n",
       "      <th>19</th>\n",
       "      <td>5.1</td>\n",
       "      <td>3.8</td>\n",
       "      <td>1.5</td>\n",
       "      <td>0.3</td>\n",
       "      <td>setosa</td>\n",
       "    </tr>\n",
       "    <tr>\n",
       "      <th>20</th>\n",
       "      <td>5.4</td>\n",
       "      <td>3.4</td>\n",
       "      <td>1.7</td>\n",
       "      <td>0.2</td>\n",
       "      <td>setosa</td>\n",
       "    </tr>\n",
       "    <tr>\n",
       "      <th>21</th>\n",
       "      <td>5.1</td>\n",
       "      <td>3.7</td>\n",
       "      <td>1.5</td>\n",
       "      <td>0.4</td>\n",
       "      <td>setosa</td>\n",
       "    </tr>\n",
       "    <tr>\n",
       "      <th>22</th>\n",
       "      <td>4.6</td>\n",
       "      <td>3.6</td>\n",
       "      <td>1.0</td>\n",
       "      <td>0.2</td>\n",
       "      <td>setosa</td>\n",
       "    </tr>\n",
       "    <tr>\n",
       "      <th>23</th>\n",
       "      <td>5.1</td>\n",
       "      <td>3.3</td>\n",
       "      <td>1.7</td>\n",
       "      <td>0.5</td>\n",
       "      <td>setosa</td>\n",
       "    </tr>\n",
       "    <tr>\n",
       "      <th>24</th>\n",
       "      <td>4.8</td>\n",
       "      <td>3.4</td>\n",
       "      <td>1.9</td>\n",
       "      <td>0.2</td>\n",
       "      <td>setosa</td>\n",
       "    </tr>\n",
       "    <tr>\n",
       "      <th>25</th>\n",
       "      <td>5.0</td>\n",
       "      <td>3.0</td>\n",
       "      <td>1.6</td>\n",
       "      <td>0.2</td>\n",
       "      <td>setosa</td>\n",
       "    </tr>\n",
       "    <tr>\n",
       "      <th>26</th>\n",
       "      <td>5.0</td>\n",
       "      <td>3.4</td>\n",
       "      <td>1.6</td>\n",
       "      <td>0.4</td>\n",
       "      <td>setosa</td>\n",
       "    </tr>\n",
       "    <tr>\n",
       "      <th>27</th>\n",
       "      <td>5.2</td>\n",
       "      <td>3.5</td>\n",
       "      <td>1.5</td>\n",
       "      <td>0.2</td>\n",
       "      <td>setosa</td>\n",
       "    </tr>\n",
       "    <tr>\n",
       "      <th>28</th>\n",
       "      <td>5.2</td>\n",
       "      <td>3.4</td>\n",
       "      <td>1.4</td>\n",
       "      <td>0.2</td>\n",
       "      <td>setosa</td>\n",
       "    </tr>\n",
       "    <tr>\n",
       "      <th>29</th>\n",
       "      <td>4.7</td>\n",
       "      <td>3.2</td>\n",
       "      <td>1.6</td>\n",
       "      <td>0.2</td>\n",
       "      <td>setosa</td>\n",
       "    </tr>\n",
       "    <tr>\n",
       "      <th>30</th>\n",
       "      <td>4.8</td>\n",
       "      <td>3.1</td>\n",
       "      <td>1.6</td>\n",
       "      <td>0.2</td>\n",
       "      <td>setosa</td>\n",
       "    </tr>\n",
       "    <tr>\n",
       "      <th>31</th>\n",
       "      <td>5.4</td>\n",
       "      <td>3.4</td>\n",
       "      <td>1.5</td>\n",
       "      <td>0.4</td>\n",
       "      <td>setosa</td>\n",
       "    </tr>\n",
       "    <tr>\n",
       "      <th>32</th>\n",
       "      <td>5.2</td>\n",
       "      <td>4.1</td>\n",
       "      <td>1.5</td>\n",
       "      <td>0.1</td>\n",
       "      <td>setosa</td>\n",
       "    </tr>\n",
       "    <tr>\n",
       "      <th>33</th>\n",
       "      <td>5.5</td>\n",
       "      <td>4.2</td>\n",
       "      <td>1.4</td>\n",
       "      <td>0.2</td>\n",
       "      <td>setosa</td>\n",
       "    </tr>\n",
       "    <tr>\n",
       "      <th>34</th>\n",
       "      <td>4.9</td>\n",
       "      <td>3.1</td>\n",
       "      <td>1.5</td>\n",
       "      <td>0.1</td>\n",
       "      <td>setosa</td>\n",
       "    </tr>\n",
       "    <tr>\n",
       "      <th>35</th>\n",
       "      <td>5.0</td>\n",
       "      <td>3.2</td>\n",
       "      <td>1.2</td>\n",
       "      <td>0.2</td>\n",
       "      <td>setosa</td>\n",
       "    </tr>\n",
       "    <tr>\n",
       "      <th>36</th>\n",
       "      <td>5.5</td>\n",
       "      <td>3.5</td>\n",
       "      <td>1.3</td>\n",
       "      <td>0.2</td>\n",
       "      <td>setosa</td>\n",
       "    </tr>\n",
       "    <tr>\n",
       "      <th>37</th>\n",
       "      <td>4.9</td>\n",
       "      <td>3.1</td>\n",
       "      <td>1.5</td>\n",
       "      <td>0.1</td>\n",
       "      <td>setosa</td>\n",
       "    </tr>\n",
       "    <tr>\n",
       "      <th>38</th>\n",
       "      <td>4.4</td>\n",
       "      <td>3.0</td>\n",
       "      <td>1.3</td>\n",
       "      <td>0.2</td>\n",
       "      <td>setosa</td>\n",
       "    </tr>\n",
       "    <tr>\n",
       "      <th>39</th>\n",
       "      <td>5.1</td>\n",
       "      <td>3.4</td>\n",
       "      <td>1.5</td>\n",
       "      <td>0.2</td>\n",
       "      <td>setosa</td>\n",
       "    </tr>\n",
       "    <tr>\n",
       "      <th>40</th>\n",
       "      <td>5.0</td>\n",
       "      <td>3.5</td>\n",
       "      <td>1.3</td>\n",
       "      <td>0.3</td>\n",
       "      <td>setosa</td>\n",
       "    </tr>\n",
       "    <tr>\n",
       "      <th>41</th>\n",
       "      <td>4.5</td>\n",
       "      <td>2.3</td>\n",
       "      <td>1.3</td>\n",
       "      <td>0.3</td>\n",
       "      <td>setosa</td>\n",
       "    </tr>\n",
       "    <tr>\n",
       "      <th>42</th>\n",
       "      <td>4.4</td>\n",
       "      <td>3.2</td>\n",
       "      <td>1.3</td>\n",
       "      <td>0.2</td>\n",
       "      <td>setosa</td>\n",
       "    </tr>\n",
       "    <tr>\n",
       "      <th>43</th>\n",
       "      <td>5.0</td>\n",
       "      <td>3.5</td>\n",
       "      <td>1.6</td>\n",
       "      <td>0.6</td>\n",
       "      <td>setosa</td>\n",
       "    </tr>\n",
       "    <tr>\n",
       "      <th>44</th>\n",
       "      <td>5.1</td>\n",
       "      <td>3.8</td>\n",
       "      <td>1.9</td>\n",
       "      <td>0.4</td>\n",
       "      <td>setosa</td>\n",
       "    </tr>\n",
       "    <tr>\n",
       "      <th>45</th>\n",
       "      <td>4.8</td>\n",
       "      <td>3.0</td>\n",
       "      <td>1.4</td>\n",
       "      <td>0.3</td>\n",
       "      <td>setosa</td>\n",
       "    </tr>\n",
       "    <tr>\n",
       "      <th>46</th>\n",
       "      <td>5.1</td>\n",
       "      <td>3.8</td>\n",
       "      <td>1.6</td>\n",
       "      <td>0.2</td>\n",
       "      <td>setosa</td>\n",
       "    </tr>\n",
       "    <tr>\n",
       "      <th>47</th>\n",
       "      <td>4.6</td>\n",
       "      <td>3.2</td>\n",
       "      <td>1.4</td>\n",
       "      <td>0.2</td>\n",
       "      <td>setosa</td>\n",
       "    </tr>\n",
       "    <tr>\n",
       "      <th>48</th>\n",
       "      <td>5.3</td>\n",
       "      <td>3.7</td>\n",
       "      <td>1.5</td>\n",
       "      <td>0.2</td>\n",
       "      <td>setosa</td>\n",
       "    </tr>\n",
       "    <tr>\n",
       "      <th>49</th>\n",
       "      <td>5.0</td>\n",
       "      <td>3.3</td>\n",
       "      <td>1.4</td>\n",
       "      <td>0.2</td>\n",
       "      <td>setosa</td>\n",
       "    </tr>\n",
       "  </tbody>\n",
       "</table>\n",
       "</div>"
      ],
      "text/plain": [
       "    sepal_length  sepal_width  petal_length  petal_width   class\n",
       "0            5.1          3.5           1.4          0.2  setosa\n",
       "1            4.9          3.0           1.4          0.2  setosa\n",
       "2            4.7          3.2           1.3          0.2  setosa\n",
       "3            4.6          3.1           1.5          0.2  setosa\n",
       "4            5.0          3.6           1.4          0.2  setosa\n",
       "5            5.4          3.9           1.7          0.4  setosa\n",
       "6            4.6          3.4           1.4          0.3  setosa\n",
       "7            5.0          3.4           1.5          0.2  setosa\n",
       "8            4.4          2.9           1.4          0.2  setosa\n",
       "9            4.9          3.1           1.5          0.1  setosa\n",
       "10           5.4          3.7           1.5          0.2  setosa\n",
       "11           4.8          3.4           1.6          0.2  setosa\n",
       "12           4.8          3.0           1.4          0.1  setosa\n",
       "13           4.3          3.0           1.1          0.1  setosa\n",
       "14           5.8          4.0           1.2          0.2  setosa\n",
       "15           5.7          4.4           1.5          0.4  setosa\n",
       "16           5.4          3.9           1.3          0.4  setosa\n",
       "17           5.1          3.5           1.4          0.3  setosa\n",
       "18           5.7          3.8           1.7          0.3  setosa\n",
       "19           5.1          3.8           1.5          0.3  setosa\n",
       "20           5.4          3.4           1.7          0.2  setosa\n",
       "21           5.1          3.7           1.5          0.4  setosa\n",
       "22           4.6          3.6           1.0          0.2  setosa\n",
       "23           5.1          3.3           1.7          0.5  setosa\n",
       "24           4.8          3.4           1.9          0.2  setosa\n",
       "25           5.0          3.0           1.6          0.2  setosa\n",
       "26           5.0          3.4           1.6          0.4  setosa\n",
       "27           5.2          3.5           1.5          0.2  setosa\n",
       "28           5.2          3.4           1.4          0.2  setosa\n",
       "29           4.7          3.2           1.6          0.2  setosa\n",
       "30           4.8          3.1           1.6          0.2  setosa\n",
       "31           5.4          3.4           1.5          0.4  setosa\n",
       "32           5.2          4.1           1.5          0.1  setosa\n",
       "33           5.5          4.2           1.4          0.2  setosa\n",
       "34           4.9          3.1           1.5          0.1  setosa\n",
       "35           5.0          3.2           1.2          0.2  setosa\n",
       "36           5.5          3.5           1.3          0.2  setosa\n",
       "37           4.9          3.1           1.5          0.1  setosa\n",
       "38           4.4          3.0           1.3          0.2  setosa\n",
       "39           5.1          3.4           1.5          0.2  setosa\n",
       "40           5.0          3.5           1.3          0.3  setosa\n",
       "41           4.5          2.3           1.3          0.3  setosa\n",
       "42           4.4          3.2           1.3          0.2  setosa\n",
       "43           5.0          3.5           1.6          0.6  setosa\n",
       "44           5.1          3.8           1.9          0.4  setosa\n",
       "45           4.8          3.0           1.4          0.3  setosa\n",
       "46           5.1          3.8           1.6          0.2  setosa\n",
       "47           4.6          3.2           1.4          0.2  setosa\n",
       "48           5.3          3.7           1.5          0.2  setosa\n",
       "49           5.0          3.3           1.4          0.2  setosa"
      ]
     },
     "execution_count": 95,
     "metadata": {},
     "output_type": "execute_result"
    }
   ],
   "source": [
    "df[df[\"class\"] == \"setosa\"]"
   ]
  },
  {
   "cell_type": "code",
   "execution_count": 96,
   "id": "616a65c5",
   "metadata": {
    "id": "MMWzNsPO1ph2"
   },
   "outputs": [
    {
     "data": {
      "text/html": [
       "<div>\n",
       "<style scoped>\n",
       "    .dataframe tbody tr th:only-of-type {\n",
       "        vertical-align: middle;\n",
       "    }\n",
       "\n",
       "    .dataframe tbody tr th {\n",
       "        vertical-align: top;\n",
       "    }\n",
       "\n",
       "    .dataframe thead th {\n",
       "        text-align: right;\n",
       "    }\n",
       "</style>\n",
       "<table border=\"1\" class=\"dataframe\">\n",
       "  <thead>\n",
       "    <tr style=\"text-align: right;\">\n",
       "      <th></th>\n",
       "      <th>sepal_length</th>\n",
       "      <th>sepal_width</th>\n",
       "      <th>petal_length</th>\n",
       "      <th>petal_width</th>\n",
       "      <th>class</th>\n",
       "    </tr>\n",
       "  </thead>\n",
       "  <tbody>\n",
       "    <tr>\n",
       "      <th>0</th>\n",
       "      <td>5.1</td>\n",
       "      <td>3.5</td>\n",
       "      <td>1.4</td>\n",
       "      <td>0.2</td>\n",
       "      <td>setosa</td>\n",
       "    </tr>\n",
       "    <tr>\n",
       "      <th>5</th>\n",
       "      <td>5.4</td>\n",
       "      <td>3.9</td>\n",
       "      <td>1.7</td>\n",
       "      <td>0.4</td>\n",
       "      <td>setosa</td>\n",
       "    </tr>\n",
       "    <tr>\n",
       "      <th>10</th>\n",
       "      <td>5.4</td>\n",
       "      <td>3.7</td>\n",
       "      <td>1.5</td>\n",
       "      <td>0.2</td>\n",
       "      <td>setosa</td>\n",
       "    </tr>\n",
       "    <tr>\n",
       "      <th>14</th>\n",
       "      <td>5.8</td>\n",
       "      <td>4.0</td>\n",
       "      <td>1.2</td>\n",
       "      <td>0.2</td>\n",
       "      <td>setosa</td>\n",
       "    </tr>\n",
       "    <tr>\n",
       "      <th>15</th>\n",
       "      <td>5.7</td>\n",
       "      <td>4.4</td>\n",
       "      <td>1.5</td>\n",
       "      <td>0.4</td>\n",
       "      <td>setosa</td>\n",
       "    </tr>\n",
       "    <tr>\n",
       "      <th>16</th>\n",
       "      <td>5.4</td>\n",
       "      <td>3.9</td>\n",
       "      <td>1.3</td>\n",
       "      <td>0.4</td>\n",
       "      <td>setosa</td>\n",
       "    </tr>\n",
       "    <tr>\n",
       "      <th>17</th>\n",
       "      <td>5.1</td>\n",
       "      <td>3.5</td>\n",
       "      <td>1.4</td>\n",
       "      <td>0.3</td>\n",
       "      <td>setosa</td>\n",
       "    </tr>\n",
       "    <tr>\n",
       "      <th>18</th>\n",
       "      <td>5.7</td>\n",
       "      <td>3.8</td>\n",
       "      <td>1.7</td>\n",
       "      <td>0.3</td>\n",
       "      <td>setosa</td>\n",
       "    </tr>\n",
       "    <tr>\n",
       "      <th>19</th>\n",
       "      <td>5.1</td>\n",
       "      <td>3.8</td>\n",
       "      <td>1.5</td>\n",
       "      <td>0.3</td>\n",
       "      <td>setosa</td>\n",
       "    </tr>\n",
       "    <tr>\n",
       "      <th>20</th>\n",
       "      <td>5.4</td>\n",
       "      <td>3.4</td>\n",
       "      <td>1.7</td>\n",
       "      <td>0.2</td>\n",
       "      <td>setosa</td>\n",
       "    </tr>\n",
       "    <tr>\n",
       "      <th>21</th>\n",
       "      <td>5.1</td>\n",
       "      <td>3.7</td>\n",
       "      <td>1.5</td>\n",
       "      <td>0.4</td>\n",
       "      <td>setosa</td>\n",
       "    </tr>\n",
       "    <tr>\n",
       "      <th>23</th>\n",
       "      <td>5.1</td>\n",
       "      <td>3.3</td>\n",
       "      <td>1.7</td>\n",
       "      <td>0.5</td>\n",
       "      <td>setosa</td>\n",
       "    </tr>\n",
       "    <tr>\n",
       "      <th>27</th>\n",
       "      <td>5.2</td>\n",
       "      <td>3.5</td>\n",
       "      <td>1.5</td>\n",
       "      <td>0.2</td>\n",
       "      <td>setosa</td>\n",
       "    </tr>\n",
       "    <tr>\n",
       "      <th>28</th>\n",
       "      <td>5.2</td>\n",
       "      <td>3.4</td>\n",
       "      <td>1.4</td>\n",
       "      <td>0.2</td>\n",
       "      <td>setosa</td>\n",
       "    </tr>\n",
       "    <tr>\n",
       "      <th>31</th>\n",
       "      <td>5.4</td>\n",
       "      <td>3.4</td>\n",
       "      <td>1.5</td>\n",
       "      <td>0.4</td>\n",
       "      <td>setosa</td>\n",
       "    </tr>\n",
       "    <tr>\n",
       "      <th>32</th>\n",
       "      <td>5.2</td>\n",
       "      <td>4.1</td>\n",
       "      <td>1.5</td>\n",
       "      <td>0.1</td>\n",
       "      <td>setosa</td>\n",
       "    </tr>\n",
       "    <tr>\n",
       "      <th>33</th>\n",
       "      <td>5.5</td>\n",
       "      <td>4.2</td>\n",
       "      <td>1.4</td>\n",
       "      <td>0.2</td>\n",
       "      <td>setosa</td>\n",
       "    </tr>\n",
       "    <tr>\n",
       "      <th>36</th>\n",
       "      <td>5.5</td>\n",
       "      <td>3.5</td>\n",
       "      <td>1.3</td>\n",
       "      <td>0.2</td>\n",
       "      <td>setosa</td>\n",
       "    </tr>\n",
       "    <tr>\n",
       "      <th>39</th>\n",
       "      <td>5.1</td>\n",
       "      <td>3.4</td>\n",
       "      <td>1.5</td>\n",
       "      <td>0.2</td>\n",
       "      <td>setosa</td>\n",
       "    </tr>\n",
       "    <tr>\n",
       "      <th>44</th>\n",
       "      <td>5.1</td>\n",
       "      <td>3.8</td>\n",
       "      <td>1.9</td>\n",
       "      <td>0.4</td>\n",
       "      <td>setosa</td>\n",
       "    </tr>\n",
       "    <tr>\n",
       "      <th>46</th>\n",
       "      <td>5.1</td>\n",
       "      <td>3.8</td>\n",
       "      <td>1.6</td>\n",
       "      <td>0.2</td>\n",
       "      <td>setosa</td>\n",
       "    </tr>\n",
       "    <tr>\n",
       "      <th>48</th>\n",
       "      <td>5.3</td>\n",
       "      <td>3.7</td>\n",
       "      <td>1.5</td>\n",
       "      <td>0.2</td>\n",
       "      <td>setosa</td>\n",
       "    </tr>\n",
       "  </tbody>\n",
       "</table>\n",
       "</div>"
      ],
      "text/plain": [
       "    sepal_length  sepal_width  petal_length  petal_width   class\n",
       "0            5.1          3.5           1.4          0.2  setosa\n",
       "5            5.4          3.9           1.7          0.4  setosa\n",
       "10           5.4          3.7           1.5          0.2  setosa\n",
       "14           5.8          4.0           1.2          0.2  setosa\n",
       "15           5.7          4.4           1.5          0.4  setosa\n",
       "16           5.4          3.9           1.3          0.4  setosa\n",
       "17           5.1          3.5           1.4          0.3  setosa\n",
       "18           5.7          3.8           1.7          0.3  setosa\n",
       "19           5.1          3.8           1.5          0.3  setosa\n",
       "20           5.4          3.4           1.7          0.2  setosa\n",
       "21           5.1          3.7           1.5          0.4  setosa\n",
       "23           5.1          3.3           1.7          0.5  setosa\n",
       "27           5.2          3.5           1.5          0.2  setosa\n",
       "28           5.2          3.4           1.4          0.2  setosa\n",
       "31           5.4          3.4           1.5          0.4  setosa\n",
       "32           5.2          4.1           1.5          0.1  setosa\n",
       "33           5.5          4.2           1.4          0.2  setosa\n",
       "36           5.5          3.5           1.3          0.2  setosa\n",
       "39           5.1          3.4           1.5          0.2  setosa\n",
       "44           5.1          3.8           1.9          0.4  setosa\n",
       "46           5.1          3.8           1.6          0.2  setosa\n",
       "48           5.3          3.7           1.5          0.2  setosa"
      ]
     },
     "execution_count": 96,
     "metadata": {},
     "output_type": "execute_result"
    }
   ],
   "source": [
    "df[(df[\"class\"] == \"setosa\") & (df[\"sepal_length\"] > 5)]"
   ]
  },
  {
   "cell_type": "code",
   "execution_count": 97,
   "id": "520a0904",
   "metadata": {
    "id": "TwSNldtZ2X8h"
   },
   "outputs": [
    {
     "data": {
      "text/plain": [
       "5.1"
      ]
     },
     "execution_count": 97,
     "metadata": {},
     "output_type": "execute_result"
    }
   ],
   "source": [
    "df.iloc[0, 0]"
   ]
  },
  {
   "cell_type": "code",
   "execution_count": 98,
   "id": "ff54a59b",
   "metadata": {
    "id": "7CHdOean2vib"
   },
   "outputs": [
    {
     "data": {
      "text/html": [
       "<div>\n",
       "<style scoped>\n",
       "    .dataframe tbody tr th:only-of-type {\n",
       "        vertical-align: middle;\n",
       "    }\n",
       "\n",
       "    .dataframe tbody tr th {\n",
       "        vertical-align: top;\n",
       "    }\n",
       "\n",
       "    .dataframe thead th {\n",
       "        text-align: right;\n",
       "    }\n",
       "</style>\n",
       "<table border=\"1\" class=\"dataframe\">\n",
       "  <thead>\n",
       "    <tr style=\"text-align: right;\">\n",
       "      <th></th>\n",
       "      <th>sepal_length</th>\n",
       "      <th>sepal_width</th>\n",
       "      <th>petal_length</th>\n",
       "      <th>petal_width</th>\n",
       "    </tr>\n",
       "  </thead>\n",
       "  <tbody>\n",
       "    <tr>\n",
       "      <th>0</th>\n",
       "      <td>5.1</td>\n",
       "      <td>3.5</td>\n",
       "      <td>1.4</td>\n",
       "      <td>0.2</td>\n",
       "    </tr>\n",
       "    <tr>\n",
       "      <th>1</th>\n",
       "      <td>4.9</td>\n",
       "      <td>3.0</td>\n",
       "      <td>1.4</td>\n",
       "      <td>0.2</td>\n",
       "    </tr>\n",
       "    <tr>\n",
       "      <th>2</th>\n",
       "      <td>4.7</td>\n",
       "      <td>3.2</td>\n",
       "      <td>1.3</td>\n",
       "      <td>0.2</td>\n",
       "    </tr>\n",
       "    <tr>\n",
       "      <th>3</th>\n",
       "      <td>4.6</td>\n",
       "      <td>3.1</td>\n",
       "      <td>1.5</td>\n",
       "      <td>0.2</td>\n",
       "    </tr>\n",
       "    <tr>\n",
       "      <th>4</th>\n",
       "      <td>5.0</td>\n",
       "      <td>3.6</td>\n",
       "      <td>1.4</td>\n",
       "      <td>0.2</td>\n",
       "    </tr>\n",
       "    <tr>\n",
       "      <th>...</th>\n",
       "      <td>...</td>\n",
       "      <td>...</td>\n",
       "      <td>...</td>\n",
       "      <td>...</td>\n",
       "    </tr>\n",
       "    <tr>\n",
       "      <th>95</th>\n",
       "      <td>5.7</td>\n",
       "      <td>3.0</td>\n",
       "      <td>4.2</td>\n",
       "      <td>1.2</td>\n",
       "    </tr>\n",
       "    <tr>\n",
       "      <th>96</th>\n",
       "      <td>5.7</td>\n",
       "      <td>2.9</td>\n",
       "      <td>4.2</td>\n",
       "      <td>1.3</td>\n",
       "    </tr>\n",
       "    <tr>\n",
       "      <th>97</th>\n",
       "      <td>6.2</td>\n",
       "      <td>2.9</td>\n",
       "      <td>4.3</td>\n",
       "      <td>1.3</td>\n",
       "    </tr>\n",
       "    <tr>\n",
       "      <th>98</th>\n",
       "      <td>5.1</td>\n",
       "      <td>2.5</td>\n",
       "      <td>3.0</td>\n",
       "      <td>1.1</td>\n",
       "    </tr>\n",
       "    <tr>\n",
       "      <th>99</th>\n",
       "      <td>5.7</td>\n",
       "      <td>2.8</td>\n",
       "      <td>4.1</td>\n",
       "      <td>1.3</td>\n",
       "    </tr>\n",
       "  </tbody>\n",
       "</table>\n",
       "<p>100 rows × 4 columns</p>\n",
       "</div>"
      ],
      "text/plain": [
       "    sepal_length  sepal_width  petal_length  petal_width\n",
       "0            5.1          3.5           1.4          0.2\n",
       "1            4.9          3.0           1.4          0.2\n",
       "2            4.7          3.2           1.3          0.2\n",
       "3            4.6          3.1           1.5          0.2\n",
       "4            5.0          3.6           1.4          0.2\n",
       "..           ...          ...           ...          ...\n",
       "95           5.7          3.0           4.2          1.2\n",
       "96           5.7          2.9           4.2          1.3\n",
       "97           6.2          2.9           4.3          1.3\n",
       "98           5.1          2.5           3.0          1.1\n",
       "99           5.7          2.8           4.1          1.3\n",
       "\n",
       "[100 rows x 4 columns]"
      ]
     },
     "execution_count": 98,
     "metadata": {},
     "output_type": "execute_result"
    }
   ],
   "source": [
    "df.iloc[:100, :4]"
   ]
  },
  {
   "cell_type": "markdown",
   "id": "36069443",
   "metadata": {
    "id": "N6mO8adYqaba"
   },
   "source": [
    "## ZADANIA\n",
    "1. Wczytaj dane z `WINE_URL` do DataFrame'u o nazwie `wine` - nazwy kolumn znajdują się w liście `col_names`\n",
    "2. Oblicz średnią, minimalną oraz maksymalną zawartość alkoholu dla każdej z klas (da się to zrobić w jednym kroku - podpowiedź: `agg`)\n",
    "3. Dodaj do DataFrame'u dodatkową kolumnę `color_intensity_log` zawierającą logarytm wartości `color_intensity`"
   ]
  },
  {
   "cell_type": "code",
   "execution_count": 100,
   "id": "77ddd217",
   "metadata": {
    "id": "v8yALauOrFUu"
   },
   "outputs": [
    {
     "data": {
      "text/html": [
       "<div>\n",
       "<style scoped>\n",
       "    .dataframe tbody tr th:only-of-type {\n",
       "        vertical-align: middle;\n",
       "    }\n",
       "\n",
       "    .dataframe tbody tr th {\n",
       "        vertical-align: top;\n",
       "    }\n",
       "\n",
       "    .dataframe thead th {\n",
       "        text-align: right;\n",
       "    }\n",
       "</style>\n",
       "<table border=\"1\" class=\"dataframe\">\n",
       "  <thead>\n",
       "    <tr style=\"text-align: right;\">\n",
       "      <th></th>\n",
       "      <th>class</th>\n",
       "      <th>alcohol</th>\n",
       "      <th>malic_acid</th>\n",
       "      <th>ash</th>\n",
       "      <th>alcalinity_of_ash</th>\n",
       "      <th>magnesium</th>\n",
       "      <th>total_phenols</th>\n",
       "      <th>flavanoids</th>\n",
       "      <th>nonflavanoid_phenols</th>\n",
       "      <th>proanthocyanins</th>\n",
       "      <th>color_intensity</th>\n",
       "      <th>hue</th>\n",
       "      <th>OD280_OD315</th>\n",
       "      <th>proline</th>\n",
       "    </tr>\n",
       "  </thead>\n",
       "  <tbody>\n",
       "    <tr>\n",
       "      <th>0</th>\n",
       "      <td>1</td>\n",
       "      <td>14.23</td>\n",
       "      <td>1.71</td>\n",
       "      <td>2.43</td>\n",
       "      <td>15.6</td>\n",
       "      <td>127</td>\n",
       "      <td>2.80</td>\n",
       "      <td>3.06</td>\n",
       "      <td>0.28</td>\n",
       "      <td>2.29</td>\n",
       "      <td>5.64</td>\n",
       "      <td>1.04</td>\n",
       "      <td>3.92</td>\n",
       "      <td>1065</td>\n",
       "    </tr>\n",
       "    <tr>\n",
       "      <th>1</th>\n",
       "      <td>1</td>\n",
       "      <td>13.20</td>\n",
       "      <td>1.78</td>\n",
       "      <td>2.14</td>\n",
       "      <td>11.2</td>\n",
       "      <td>100</td>\n",
       "      <td>2.65</td>\n",
       "      <td>2.76</td>\n",
       "      <td>0.26</td>\n",
       "      <td>1.28</td>\n",
       "      <td>4.38</td>\n",
       "      <td>1.05</td>\n",
       "      <td>3.40</td>\n",
       "      <td>1050</td>\n",
       "    </tr>\n",
       "    <tr>\n",
       "      <th>2</th>\n",
       "      <td>1</td>\n",
       "      <td>13.16</td>\n",
       "      <td>2.36</td>\n",
       "      <td>2.67</td>\n",
       "      <td>18.6</td>\n",
       "      <td>101</td>\n",
       "      <td>2.80</td>\n",
       "      <td>3.24</td>\n",
       "      <td>0.30</td>\n",
       "      <td>2.81</td>\n",
       "      <td>5.68</td>\n",
       "      <td>1.03</td>\n",
       "      <td>3.17</td>\n",
       "      <td>1185</td>\n",
       "    </tr>\n",
       "    <tr>\n",
       "      <th>3</th>\n",
       "      <td>1</td>\n",
       "      <td>14.37</td>\n",
       "      <td>1.95</td>\n",
       "      <td>2.50</td>\n",
       "      <td>16.8</td>\n",
       "      <td>113</td>\n",
       "      <td>3.85</td>\n",
       "      <td>3.49</td>\n",
       "      <td>0.24</td>\n",
       "      <td>2.18</td>\n",
       "      <td>7.80</td>\n",
       "      <td>0.86</td>\n",
       "      <td>3.45</td>\n",
       "      <td>1480</td>\n",
       "    </tr>\n",
       "    <tr>\n",
       "      <th>4</th>\n",
       "      <td>1</td>\n",
       "      <td>13.24</td>\n",
       "      <td>2.59</td>\n",
       "      <td>2.87</td>\n",
       "      <td>21.0</td>\n",
       "      <td>118</td>\n",
       "      <td>2.80</td>\n",
       "      <td>2.69</td>\n",
       "      <td>0.39</td>\n",
       "      <td>1.82</td>\n",
       "      <td>4.32</td>\n",
       "      <td>1.04</td>\n",
       "      <td>2.93</td>\n",
       "      <td>735</td>\n",
       "    </tr>\n",
       "    <tr>\n",
       "      <th>...</th>\n",
       "      <td>...</td>\n",
       "      <td>...</td>\n",
       "      <td>...</td>\n",
       "      <td>...</td>\n",
       "      <td>...</td>\n",
       "      <td>...</td>\n",
       "      <td>...</td>\n",
       "      <td>...</td>\n",
       "      <td>...</td>\n",
       "      <td>...</td>\n",
       "      <td>...</td>\n",
       "      <td>...</td>\n",
       "      <td>...</td>\n",
       "      <td>...</td>\n",
       "    </tr>\n",
       "    <tr>\n",
       "      <th>173</th>\n",
       "      <td>3</td>\n",
       "      <td>13.71</td>\n",
       "      <td>5.65</td>\n",
       "      <td>2.45</td>\n",
       "      <td>20.5</td>\n",
       "      <td>95</td>\n",
       "      <td>1.68</td>\n",
       "      <td>0.61</td>\n",
       "      <td>0.52</td>\n",
       "      <td>1.06</td>\n",
       "      <td>7.70</td>\n",
       "      <td>0.64</td>\n",
       "      <td>1.74</td>\n",
       "      <td>740</td>\n",
       "    </tr>\n",
       "    <tr>\n",
       "      <th>174</th>\n",
       "      <td>3</td>\n",
       "      <td>13.40</td>\n",
       "      <td>3.91</td>\n",
       "      <td>2.48</td>\n",
       "      <td>23.0</td>\n",
       "      <td>102</td>\n",
       "      <td>1.80</td>\n",
       "      <td>0.75</td>\n",
       "      <td>0.43</td>\n",
       "      <td>1.41</td>\n",
       "      <td>7.30</td>\n",
       "      <td>0.70</td>\n",
       "      <td>1.56</td>\n",
       "      <td>750</td>\n",
       "    </tr>\n",
       "    <tr>\n",
       "      <th>175</th>\n",
       "      <td>3</td>\n",
       "      <td>13.27</td>\n",
       "      <td>4.28</td>\n",
       "      <td>2.26</td>\n",
       "      <td>20.0</td>\n",
       "      <td>120</td>\n",
       "      <td>1.59</td>\n",
       "      <td>0.69</td>\n",
       "      <td>0.43</td>\n",
       "      <td>1.35</td>\n",
       "      <td>10.20</td>\n",
       "      <td>0.59</td>\n",
       "      <td>1.56</td>\n",
       "      <td>835</td>\n",
       "    </tr>\n",
       "    <tr>\n",
       "      <th>176</th>\n",
       "      <td>3</td>\n",
       "      <td>13.17</td>\n",
       "      <td>2.59</td>\n",
       "      <td>2.37</td>\n",
       "      <td>20.0</td>\n",
       "      <td>120</td>\n",
       "      <td>1.65</td>\n",
       "      <td>0.68</td>\n",
       "      <td>0.53</td>\n",
       "      <td>1.46</td>\n",
       "      <td>9.30</td>\n",
       "      <td>0.60</td>\n",
       "      <td>1.62</td>\n",
       "      <td>840</td>\n",
       "    </tr>\n",
       "    <tr>\n",
       "      <th>177</th>\n",
       "      <td>3</td>\n",
       "      <td>14.13</td>\n",
       "      <td>4.10</td>\n",
       "      <td>2.74</td>\n",
       "      <td>24.5</td>\n",
       "      <td>96</td>\n",
       "      <td>2.05</td>\n",
       "      <td>0.76</td>\n",
       "      <td>0.56</td>\n",
       "      <td>1.35</td>\n",
       "      <td>9.20</td>\n",
       "      <td>0.61</td>\n",
       "      <td>1.60</td>\n",
       "      <td>560</td>\n",
       "    </tr>\n",
       "  </tbody>\n",
       "</table>\n",
       "<p>178 rows × 14 columns</p>\n",
       "</div>"
      ],
      "text/plain": [
       "     class  alcohol  malic_acid   ash  alcalinity_of_ash  magnesium  \\\n",
       "0        1    14.23        1.71  2.43               15.6        127   \n",
       "1        1    13.20        1.78  2.14               11.2        100   \n",
       "2        1    13.16        2.36  2.67               18.6        101   \n",
       "3        1    14.37        1.95  2.50               16.8        113   \n",
       "4        1    13.24        2.59  2.87               21.0        118   \n",
       "..     ...      ...         ...   ...                ...        ...   \n",
       "173      3    13.71        5.65  2.45               20.5         95   \n",
       "174      3    13.40        3.91  2.48               23.0        102   \n",
       "175      3    13.27        4.28  2.26               20.0        120   \n",
       "176      3    13.17        2.59  2.37               20.0        120   \n",
       "177      3    14.13        4.10  2.74               24.5         96   \n",
       "\n",
       "     total_phenols  flavanoids  nonflavanoid_phenols  proanthocyanins  \\\n",
       "0             2.80        3.06                  0.28             2.29   \n",
       "1             2.65        2.76                  0.26             1.28   \n",
       "2             2.80        3.24                  0.30             2.81   \n",
       "3             3.85        3.49                  0.24             2.18   \n",
       "4             2.80        2.69                  0.39             1.82   \n",
       "..             ...         ...                   ...              ...   \n",
       "173           1.68        0.61                  0.52             1.06   \n",
       "174           1.80        0.75                  0.43             1.41   \n",
       "175           1.59        0.69                  0.43             1.35   \n",
       "176           1.65        0.68                  0.53             1.46   \n",
       "177           2.05        0.76                  0.56             1.35   \n",
       "\n",
       "     color_intensity   hue  OD280_OD315  proline  \n",
       "0               5.64  1.04         3.92     1065  \n",
       "1               4.38  1.05         3.40     1050  \n",
       "2               5.68  1.03         3.17     1185  \n",
       "3               7.80  0.86         3.45     1480  \n",
       "4               4.32  1.04         2.93      735  \n",
       "..               ...   ...          ...      ...  \n",
       "173             7.70  0.64         1.74      740  \n",
       "174             7.30  0.70         1.56      750  \n",
       "175            10.20  0.59         1.56      835  \n",
       "176             9.30  0.60         1.62      840  \n",
       "177             9.20  0.61         1.60      560  \n",
       "\n",
       "[178 rows x 14 columns]"
      ]
     },
     "execution_count": 100,
     "metadata": {},
     "output_type": "execute_result"
    }
   ],
   "source": [
    "WINE_URL = \"https://archive.ics.uci.edu/ml/machine-learning-databases/wine/wine.data\"\n",
    "col_names = [\"class\", \"alcohol\", \"malic_acid\", \"ash\", \"alcalinity_of_ash\",\n",
    "             \"magnesium\", \"total_phenols\", \"flavanoids\", \"nonflavanoid_phenols\",\n",
    "             \"proanthocyanins\",\"color_intensity\",\"hue\",\"OD280_OD315\",\"proline\"]\n",
    "\n",
    "df = pd.read_csv(WINE_URL, names=col_names)\n",
    "df"
   ]
  },
  {
   "cell_type": "code",
   "execution_count": 102,
   "id": "94288b48-2fcc-4639-9588-e45784039c94",
   "metadata": {},
   "outputs": [
    {
     "data": {
      "text/plain": [
       "13.000617977528083"
      ]
     },
     "execution_count": 102,
     "metadata": {},
     "output_type": "execute_result"
    }
   ],
   "source": [
    "srednia = df[\"alcohol\"].mean()\n",
    "srednia"
   ]
  },
  {
   "cell_type": "code",
   "execution_count": 103,
   "id": "3c8f074f-68b4-4560-90d1-c436f79eaed7",
   "metadata": {},
   "outputs": [
    {
     "data": {
      "text/plain": [
       "11.03"
      ]
     },
     "execution_count": 103,
     "metadata": {},
     "output_type": "execute_result"
    }
   ],
   "source": [
    "maksimum = df[\"alcohol\"].min()\n",
    "maksimum"
   ]
  },
  {
   "cell_type": "code",
   "execution_count": 104,
   "id": "629e6fac-1d0f-45e3-af5b-fb0f82dca3b2",
   "metadata": {},
   "outputs": [
    {
     "data": {
      "text/plain": [
       "14.83"
      ]
     },
     "execution_count": 104,
     "metadata": {},
     "output_type": "execute_result"
    }
   ],
   "source": [
    "minimum = df[\"alcohol\"].max()\n",
    "minimum"
   ]
  },
  {
   "cell_type": "code",
   "execution_count": 105,
   "id": "c852507d-f941-4c91-9491-72584ff2b78a",
   "metadata": {},
   "outputs": [
    {
     "data": {
      "text/html": [
       "<div>\n",
       "<style scoped>\n",
       "    .dataframe tbody tr th:only-of-type {\n",
       "        vertical-align: middle;\n",
       "    }\n",
       "\n",
       "    .dataframe tbody tr th {\n",
       "        vertical-align: top;\n",
       "    }\n",
       "\n",
       "    .dataframe thead th {\n",
       "        text-align: right;\n",
       "    }\n",
       "</style>\n",
       "<table border=\"1\" class=\"dataframe\">\n",
       "  <thead>\n",
       "    <tr style=\"text-align: right;\">\n",
       "      <th></th>\n",
       "      <th>class</th>\n",
       "      <th>alcohol</th>\n",
       "      <th>malic_acid</th>\n",
       "      <th>ash</th>\n",
       "      <th>alcalinity_of_ash</th>\n",
       "      <th>magnesium</th>\n",
       "      <th>total_phenols</th>\n",
       "      <th>flavanoids</th>\n",
       "      <th>nonflavanoid_phenols</th>\n",
       "      <th>proanthocyanins</th>\n",
       "      <th>color_intensity</th>\n",
       "      <th>hue</th>\n",
       "      <th>OD280_OD315</th>\n",
       "      <th>proline</th>\n",
       "      <th>color_intensity_log</th>\n",
       "    </tr>\n",
       "  </thead>\n",
       "  <tbody>\n",
       "    <tr>\n",
       "      <th>0</th>\n",
       "      <td>1</td>\n",
       "      <td>14.23</td>\n",
       "      <td>1.71</td>\n",
       "      <td>2.43</td>\n",
       "      <td>15.6</td>\n",
       "      <td>127</td>\n",
       "      <td>2.80</td>\n",
       "      <td>3.06</td>\n",
       "      <td>0.28</td>\n",
       "      <td>2.29</td>\n",
       "      <td>5.64</td>\n",
       "      <td>1.04</td>\n",
       "      <td>3.92</td>\n",
       "      <td>1065</td>\n",
       "      <td>1.729884</td>\n",
       "    </tr>\n",
       "    <tr>\n",
       "      <th>1</th>\n",
       "      <td>1</td>\n",
       "      <td>13.20</td>\n",
       "      <td>1.78</td>\n",
       "      <td>2.14</td>\n",
       "      <td>11.2</td>\n",
       "      <td>100</td>\n",
       "      <td>2.65</td>\n",
       "      <td>2.76</td>\n",
       "      <td>0.26</td>\n",
       "      <td>1.28</td>\n",
       "      <td>4.38</td>\n",
       "      <td>1.05</td>\n",
       "      <td>3.40</td>\n",
       "      <td>1050</td>\n",
       "      <td>1.477049</td>\n",
       "    </tr>\n",
       "    <tr>\n",
       "      <th>2</th>\n",
       "      <td>1</td>\n",
       "      <td>13.16</td>\n",
       "      <td>2.36</td>\n",
       "      <td>2.67</td>\n",
       "      <td>18.6</td>\n",
       "      <td>101</td>\n",
       "      <td>2.80</td>\n",
       "      <td>3.24</td>\n",
       "      <td>0.30</td>\n",
       "      <td>2.81</td>\n",
       "      <td>5.68</td>\n",
       "      <td>1.03</td>\n",
       "      <td>3.17</td>\n",
       "      <td>1185</td>\n",
       "      <td>1.736951</td>\n",
       "    </tr>\n",
       "    <tr>\n",
       "      <th>3</th>\n",
       "      <td>1</td>\n",
       "      <td>14.37</td>\n",
       "      <td>1.95</td>\n",
       "      <td>2.50</td>\n",
       "      <td>16.8</td>\n",
       "      <td>113</td>\n",
       "      <td>3.85</td>\n",
       "      <td>3.49</td>\n",
       "      <td>0.24</td>\n",
       "      <td>2.18</td>\n",
       "      <td>7.80</td>\n",
       "      <td>0.86</td>\n",
       "      <td>3.45</td>\n",
       "      <td>1480</td>\n",
       "      <td>2.054124</td>\n",
       "    </tr>\n",
       "    <tr>\n",
       "      <th>4</th>\n",
       "      <td>1</td>\n",
       "      <td>13.24</td>\n",
       "      <td>2.59</td>\n",
       "      <td>2.87</td>\n",
       "      <td>21.0</td>\n",
       "      <td>118</td>\n",
       "      <td>2.80</td>\n",
       "      <td>2.69</td>\n",
       "      <td>0.39</td>\n",
       "      <td>1.82</td>\n",
       "      <td>4.32</td>\n",
       "      <td>1.04</td>\n",
       "      <td>2.93</td>\n",
       "      <td>735</td>\n",
       "      <td>1.463255</td>\n",
       "    </tr>\n",
       "    <tr>\n",
       "      <th>...</th>\n",
       "      <td>...</td>\n",
       "      <td>...</td>\n",
       "      <td>...</td>\n",
       "      <td>...</td>\n",
       "      <td>...</td>\n",
       "      <td>...</td>\n",
       "      <td>...</td>\n",
       "      <td>...</td>\n",
       "      <td>...</td>\n",
       "      <td>...</td>\n",
       "      <td>...</td>\n",
       "      <td>...</td>\n",
       "      <td>...</td>\n",
       "      <td>...</td>\n",
       "      <td>...</td>\n",
       "    </tr>\n",
       "    <tr>\n",
       "      <th>173</th>\n",
       "      <td>3</td>\n",
       "      <td>13.71</td>\n",
       "      <td>5.65</td>\n",
       "      <td>2.45</td>\n",
       "      <td>20.5</td>\n",
       "      <td>95</td>\n",
       "      <td>1.68</td>\n",
       "      <td>0.61</td>\n",
       "      <td>0.52</td>\n",
       "      <td>1.06</td>\n",
       "      <td>7.70</td>\n",
       "      <td>0.64</td>\n",
       "      <td>1.74</td>\n",
       "      <td>740</td>\n",
       "      <td>2.041220</td>\n",
       "    </tr>\n",
       "    <tr>\n",
       "      <th>174</th>\n",
       "      <td>3</td>\n",
       "      <td>13.40</td>\n",
       "      <td>3.91</td>\n",
       "      <td>2.48</td>\n",
       "      <td>23.0</td>\n",
       "      <td>102</td>\n",
       "      <td>1.80</td>\n",
       "      <td>0.75</td>\n",
       "      <td>0.43</td>\n",
       "      <td>1.41</td>\n",
       "      <td>7.30</td>\n",
       "      <td>0.70</td>\n",
       "      <td>1.56</td>\n",
       "      <td>750</td>\n",
       "      <td>1.987874</td>\n",
       "    </tr>\n",
       "    <tr>\n",
       "      <th>175</th>\n",
       "      <td>3</td>\n",
       "      <td>13.27</td>\n",
       "      <td>4.28</td>\n",
       "      <td>2.26</td>\n",
       "      <td>20.0</td>\n",
       "      <td>120</td>\n",
       "      <td>1.59</td>\n",
       "      <td>0.69</td>\n",
       "      <td>0.43</td>\n",
       "      <td>1.35</td>\n",
       "      <td>10.20</td>\n",
       "      <td>0.59</td>\n",
       "      <td>1.56</td>\n",
       "      <td>835</td>\n",
       "      <td>2.322388</td>\n",
       "    </tr>\n",
       "    <tr>\n",
       "      <th>176</th>\n",
       "      <td>3</td>\n",
       "      <td>13.17</td>\n",
       "      <td>2.59</td>\n",
       "      <td>2.37</td>\n",
       "      <td>20.0</td>\n",
       "      <td>120</td>\n",
       "      <td>1.65</td>\n",
       "      <td>0.68</td>\n",
       "      <td>0.53</td>\n",
       "      <td>1.46</td>\n",
       "      <td>9.30</td>\n",
       "      <td>0.60</td>\n",
       "      <td>1.62</td>\n",
       "      <td>840</td>\n",
       "      <td>2.230014</td>\n",
       "    </tr>\n",
       "    <tr>\n",
       "      <th>177</th>\n",
       "      <td>3</td>\n",
       "      <td>14.13</td>\n",
       "      <td>4.10</td>\n",
       "      <td>2.74</td>\n",
       "      <td>24.5</td>\n",
       "      <td>96</td>\n",
       "      <td>2.05</td>\n",
       "      <td>0.76</td>\n",
       "      <td>0.56</td>\n",
       "      <td>1.35</td>\n",
       "      <td>9.20</td>\n",
       "      <td>0.61</td>\n",
       "      <td>1.60</td>\n",
       "      <td>560</td>\n",
       "      <td>2.219203</td>\n",
       "    </tr>\n",
       "  </tbody>\n",
       "</table>\n",
       "<p>178 rows × 15 columns</p>\n",
       "</div>"
      ],
      "text/plain": [
       "     class  alcohol  malic_acid   ash  alcalinity_of_ash  magnesium  \\\n",
       "0        1    14.23        1.71  2.43               15.6        127   \n",
       "1        1    13.20        1.78  2.14               11.2        100   \n",
       "2        1    13.16        2.36  2.67               18.6        101   \n",
       "3        1    14.37        1.95  2.50               16.8        113   \n",
       "4        1    13.24        2.59  2.87               21.0        118   \n",
       "..     ...      ...         ...   ...                ...        ...   \n",
       "173      3    13.71        5.65  2.45               20.5         95   \n",
       "174      3    13.40        3.91  2.48               23.0        102   \n",
       "175      3    13.27        4.28  2.26               20.0        120   \n",
       "176      3    13.17        2.59  2.37               20.0        120   \n",
       "177      3    14.13        4.10  2.74               24.5         96   \n",
       "\n",
       "     total_phenols  flavanoids  nonflavanoid_phenols  proanthocyanins  \\\n",
       "0             2.80        3.06                  0.28             2.29   \n",
       "1             2.65        2.76                  0.26             1.28   \n",
       "2             2.80        3.24                  0.30             2.81   \n",
       "3             3.85        3.49                  0.24             2.18   \n",
       "4             2.80        2.69                  0.39             1.82   \n",
       "..             ...         ...                   ...              ...   \n",
       "173           1.68        0.61                  0.52             1.06   \n",
       "174           1.80        0.75                  0.43             1.41   \n",
       "175           1.59        0.69                  0.43             1.35   \n",
       "176           1.65        0.68                  0.53             1.46   \n",
       "177           2.05        0.76                  0.56             1.35   \n",
       "\n",
       "     color_intensity   hue  OD280_OD315  proline  color_intensity_log  \n",
       "0               5.64  1.04         3.92     1065             1.729884  \n",
       "1               4.38  1.05         3.40     1050             1.477049  \n",
       "2               5.68  1.03         3.17     1185             1.736951  \n",
       "3               7.80  0.86         3.45     1480             2.054124  \n",
       "4               4.32  1.04         2.93      735             1.463255  \n",
       "..               ...   ...          ...      ...                  ...  \n",
       "173             7.70  0.64         1.74      740             2.041220  \n",
       "174             7.30  0.70         1.56      750             1.987874  \n",
       "175            10.20  0.59         1.56      835             2.322388  \n",
       "176             9.30  0.60         1.62      840             2.230014  \n",
       "177             9.20  0.61         1.60      560             2.219203  \n",
       "\n",
       "[178 rows x 15 columns]"
      ]
     },
     "execution_count": 105,
     "metadata": {},
     "output_type": "execute_result"
    }
   ],
   "source": [
    "df[\"color_intensity_log\"] = np.log(df[\"color_intensity\"])\n",
    "df"
   ]
  }
 ],
 "metadata": {
  "colab": {
   "collapsed_sections": [
    "kTw1OhMbKr9b"
   ],
   "name": "rta_1.ipynb",
   "provenance": []
  },
  "kernelspec": {
   "display_name": "Python 3 (ipykernel)",
   "language": "python",
   "name": "python3"
  },
  "language_info": {
   "codemirror_mode": {
    "name": "ipython",
    "version": 3
   },
   "file_extension": ".py",
   "mimetype": "text/x-python",
   "name": "python",
   "nbconvert_exporter": "python",
   "pygments_lexer": "ipython3",
   "version": "3.9.12"
  }
 },
 "nbformat": 4,
 "nbformat_minor": 5
}
